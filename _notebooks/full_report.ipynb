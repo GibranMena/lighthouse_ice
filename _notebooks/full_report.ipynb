{
 "cells": [
  {
   "cell_type": "markdown",
   "id": "b86beb9b",
   "metadata": {},
   "source": [
    "## Task 1. Making sense of arrests data"
   ]
  },
  {
   "cell_type": "markdown",
   "id": "b89e903e",
   "metadata": {},
   "source": [
    "## Task 1 Search for Mahmoud Khalil\n",
    "\n",
    "Is Mahmoud Khalil in the dataset? The highest probability is that he is not. As the evidence I gathered in the exploratory analysis of the database documentation points to. \n",
    "\n",
    "The most important piece of knowledge to understand this that this database does not represent the full universe of immigration-related arrests, only \"administrative arrests\" performed by Enforcement Removal Operations (ERO) within Immigration and Customs Enforcement (ICE), as reported by the professor and legal expert Austin Kocher (linked in the documentation of the data)\n",
    "\n",
    "The key question to report on is if Khalil's notice to appear order (NTA) performed on March the 8th was issued by ERO or by Homeland Security Investigations (HSI), which is the case since he was targeted not on violations of immigration policies but on the supposed grounds of posing \"potentially serious adverse foreign policy consequences for the United States\" according to US Secretary of State Marco Rubio.\n",
    "\n",
    "Administrative arrests should be linked to administrative warrants but there are exceptions, for isntance, arrests can an are being performed by ERO without warrants if they argue they have reason to believe the person in question is either entering the country illegaly or is already in the country and likely to escape before a warrant can be obtained. Therefore, some arrests with no warrant issued could be included in the database but only the ones enacted by ERO.\n",
    "\n",
    "Still, drilling down in the database is a useful excercise to see what records within say.\n",
    "\n",
    "Documention of the dataset states that \"located\" and \"non-custodial arrest\" are most likely to be detentions not at a jail or prison.AP and NYTimes record the date of arrest on Saturday March the 8th in his Columbia university owned apartement, which The Guardian states is blocks away from the main campus.\n",
    "\n",
    "But we need to take into consideration that data is not complete, 21% is missing in the column \"State Apprehension\" but only 2% is missing from the column \"Area of Reponsibility\" (AOR), which can be much more closer to ground truth. Age has a 100% of records, therefore I filtered for all individuals born in 1995 detained on March the 8th, a day before and a day after, to explore the results. \n",
    "\n",
    "There are 58 records with this characteristics, none of them with a missing value under AOR. Then there are 2 records in the New York City AOR, one with a criminal criminal conviction departed to El Salvador and arrested on March the 7th, which excludes him from the scope and the other with 2 criminal pending charges and a Salvadorean nationality, where the criminal charges are the most telling feature to exclude him to be a match. \n",
    "\n",
    "My recommendation would be to file a FOIA request or get a hold of the HSI arrests database. \n",
    "\n",
    "Code is below"
   ]
  },
  {
   "cell_type": "code",
   "execution_count": 2,
   "id": "c2066ebb",
   "metadata": {},
   "outputs": [],
   "source": [
    "# Import libraries\n",
    "import pandas as pd\n",
    "import os\n",
    "from pathlib import Path\n",
    "import pandas as pd\n",
    "import pyxlsb\n",
    "import re"
   ]
  },
  {
   "cell_type": "code",
   "execution_count": 3,
   "id": "79f56ec7",
   "metadata": {},
   "outputs": [
    {
     "name": "stdout",
     "output_type": "stream",
     "text": [
      "Working directory set to: /Users/allegratuvida/Desktop/escritorio/data_critica_2025/Proyectos en desarrollo/Lighthouse_ICE/lighthouse_ice\n"
     ]
    }
   ],
   "source": [
    "#Arranging paths\n",
    "\n",
    "if Path.cwd().name == '_notebooks':\n",
    "    os.chdir('..')  # Go to project root\n",
    "elif not (Path.cwd() / '__notebooks').exists():\n",
    "    # Find and change to project root\n",
    "    for parent in Path.cwd().parents:\n",
    "        if (parent / 'notebooks').exists():\n",
    "            os.chdir(parent)\n",
    "            break\n",
    "\n",
    "print(f\"Working directory set to: {Path.cwd()}\")"
   ]
  },
  {
   "cell_type": "code",
   "execution_count": 4,
   "id": "140051d5",
   "metadata": {},
   "outputs": [],
   "source": [
    "# Ingest xlsx files\n",
    "\n",
    "\n",
    "\n",
    "df_arrests = pd.read_excel('data/raw/ice_release_jul2025/2025-ICLI-00019_2024-ICFO-39357_ERO Admin Arrests.xlsx', skiprows=6)\n",
    "\n",
    "\n"
   ]
  },
  {
   "cell_type": "code",
   "execution_count": 5,
   "id": "e6223148",
   "metadata": {},
   "outputs": [
    {
     "name": "stdout",
     "output_type": "stream",
     "text": [
      "Column names: ['Apprehension Date', 'Apprehension State', 'Apprehension County', 'Apprehension AOR', 'Final Program', 'Final Program Group', 'Apprehension Method', 'Apprehension Criminality', 'Case Status', 'Case Category', 'Departed Date', 'Departure Country', 'Final Order Yes No', 'Final Order Date', 'Birth Date', 'Birth Year', 'Citizenship Country', 'Gender', 'Apprehension Site Landmark', 'Alien File Number', 'EID Case ID', 'EID Subject ID', 'Unique Identifier']\n"
     ]
    },
    {
     "data": {
      "application/vnd.microsoft.datawrangler.viewer.v0+json": {
       "columns": [
        {
         "name": "index",
         "rawType": "object",
         "type": "string"
        },
        {
         "name": "Apprehension Date",
         "rawType": "object",
         "type": "unknown"
        },
        {
         "name": "Apprehension State",
         "rawType": "object",
         "type": "unknown"
        },
        {
         "name": "Apprehension County",
         "rawType": "float64",
         "type": "float"
        },
        {
         "name": "Apprehension AOR",
         "rawType": "object",
         "type": "unknown"
        },
        {
         "name": "Final Program",
         "rawType": "object",
         "type": "unknown"
        },
        {
         "name": "Final Program Group",
         "rawType": "object",
         "type": "unknown"
        },
        {
         "name": "Apprehension Method",
         "rawType": "object",
         "type": "unknown"
        },
        {
         "name": "Apprehension Criminality",
         "rawType": "object",
         "type": "unknown"
        },
        {
         "name": "Case Status",
         "rawType": "object",
         "type": "unknown"
        },
        {
         "name": "Case Category",
         "rawType": "object",
         "type": "unknown"
        },
        {
         "name": "Departed Date",
         "rawType": "object",
         "type": "unknown"
        },
        {
         "name": "Departure Country",
         "rawType": "object",
         "type": "unknown"
        },
        {
         "name": "Final Order Yes No",
         "rawType": "object",
         "type": "unknown"
        },
        {
         "name": "Final Order Date",
         "rawType": "object",
         "type": "unknown"
        },
        {
         "name": "Birth Date",
         "rawType": "object",
         "type": "unknown"
        },
        {
         "name": "Birth Year",
         "rawType": "float64",
         "type": "float"
        },
        {
         "name": "Citizenship Country",
         "rawType": "object",
         "type": "unknown"
        },
        {
         "name": "Gender",
         "rawType": "object",
         "type": "unknown"
        },
        {
         "name": "Apprehension Site Landmark",
         "rawType": "object",
         "type": "unknown"
        },
        {
         "name": "Alien File Number",
         "rawType": "object",
         "type": "unknown"
        },
        {
         "name": "EID Case ID",
         "rawType": "object",
         "type": "unknown"
        },
        {
         "name": "EID Subject ID",
         "rawType": "object",
         "type": "unknown"
        },
        {
         "name": "Unique Identifier",
         "rawType": "object",
         "type": "unknown"
        }
       ],
       "ref": "501609b1-bcf3-48f3-812c-0133989bfc4a",
       "rows": [
        [
         "count",
         "265226",
         "208983",
         "0.0",
         "259323",
         "265226",
         "265226",
         "265226",
         "265226",
         "261328",
         "261328",
         "145317",
         "145279",
         "261328",
         "160289",
         "265226",
         "265226.0",
         "265226",
         "265226",
         "259126",
         "263203",
         "261328",
         "265226",
         "263203"
        ],
        [
         "unique",
         null,
         "61",
         null,
         "26",
         "14",
         "1",
         "25",
         "3",
         "13",
         "29",
         null,
         "186",
         "2",
         null,
         "1",
         null,
         "194",
         "3",
         "4968",
         "1",
         "1",
         "1",
         "249872"
        ],
        [
         "top",
         null,
         "TEXAS",
         null,
         "Miami Area of Responsibility",
         "ERO Criminal Alien Program",
         "ICE",
         "CAP Local Incarceration",
         "1 Convicted Criminal",
         "ACTIVE",
         "[8C] Excludable / Inadmissible - Administrative Final Order Issued",
         null,
         "MEXICO",
         "YES",
         null,
         "(b)(6), (b)(7)(C)",
         null,
         "MEXICO",
         "Male",
         "DALLAS COUNTY GENERAL AREA",
         "(b)(6), (b)(7)(C)",
         "(b)(6), (b)(7)(C), (b)(7)(E)",
         "(b)(6), (b)(7)(C), (b)(7)(E)",
         "1e2ec1831c1fd33fdb93b412699a798db3544957"
        ],
        [
         "freq",
         null,
         "52778",
         null,
         "26925",
         "162433",
         "265226",
         "112103",
         "123124",
         "111110",
         "76599",
         null,
         "73037",
         "160292",
         null,
         "265226",
         null,
         "101036",
         "230238",
         "11105",
         "263203",
         "261328",
         "265226",
         "7"
        ],
        [
         "mean",
         "2024-09-27 10:56:18.055142144",
         null,
         null,
         null,
         null,
         null,
         null,
         null,
         null,
         null,
         "2024-11-01 09:27:06.796589568",
         null,
         null,
         "2021-01-25 01:16:33.043814656",
         null,
         "1989.9503555458364",
         null,
         null,
         null,
         null,
         null,
         null,
         null
        ],
        [
         "min",
         "2023-09-01 00:00:00",
         null,
         null,
         null,
         null,
         null,
         null,
         null,
         null,
         null,
         "1923-09-14 00:00:00",
         null,
         null,
         "1967-01-06 00:00:00",
         null,
         "1934.0",
         null,
         null,
         null,
         null,
         null,
         null,
         null
        ],
        [
         "25%",
         "2024-03-29 06:39:15",
         null,
         null,
         null,
         null,
         null,
         null,
         null,
         null,
         null,
         "2024-06-03 00:00:00",
         null,
         null,
         "2019-04-29 00:00:00",
         null,
         "1983.0",
         null,
         null,
         null,
         null,
         null,
         null,
         null
        ],
        [
         "50%",
         "2024-11-04 07:40:00",
         null,
         null,
         null,
         null,
         null,
         null,
         null,
         null,
         null,
         "2024-12-17 00:00:00",
         null,
         null,
         "2024-03-25 00:00:00",
         null,
         "1991.0",
         null,
         null,
         null,
         null,
         null,
         null,
         null
        ],
        [
         "75%",
         "2025-04-03 08:49:45",
         null,
         null,
         null,
         null,
         null,
         null,
         null,
         null,
         null,
         "2025-04-16 00:00:00",
         null,
         null,
         "2025-01-23 00:00:00",
         null,
         "1998.0",
         null,
         null,
         null,
         null,
         null,
         null,
         null
        ],
        [
         "max",
         "2025-06-27 09:38:00",
         null,
         null,
         null,
         null,
         null,
         null,
         null,
         null,
         null,
         "2025-06-26 00:00:00",
         null,
         null,
         "2025-06-26 00:00:00",
         null,
         "2024.0",
         null,
         null,
         null,
         null,
         null,
         null,
         null
        ],
        [
         "std",
         null,
         null,
         null,
         null,
         null,
         null,
         null,
         null,
         null,
         null,
         null,
         null,
         null,
         null,
         null,
         "11.018162767021071",
         null,
         null,
         null,
         null,
         null,
         null,
         null
        ]
       ],
       "shape": {
        "columns": 23,
        "rows": 11
       }
      },
      "text/html": [
       "<div>\n",
       "<style scoped>\n",
       "    .dataframe tbody tr th:only-of-type {\n",
       "        vertical-align: middle;\n",
       "    }\n",
       "\n",
       "    .dataframe tbody tr th {\n",
       "        vertical-align: top;\n",
       "    }\n",
       "\n",
       "    .dataframe thead th {\n",
       "        text-align: right;\n",
       "    }\n",
       "</style>\n",
       "<table border=\"1\" class=\"dataframe\">\n",
       "  <thead>\n",
       "    <tr style=\"text-align: right;\">\n",
       "      <th></th>\n",
       "      <th>Apprehension Date</th>\n",
       "      <th>Apprehension State</th>\n",
       "      <th>Apprehension County</th>\n",
       "      <th>Apprehension AOR</th>\n",
       "      <th>Final Program</th>\n",
       "      <th>Final Program Group</th>\n",
       "      <th>Apprehension Method</th>\n",
       "      <th>Apprehension Criminality</th>\n",
       "      <th>Case Status</th>\n",
       "      <th>Case Category</th>\n",
       "      <th>...</th>\n",
       "      <th>Final Order Date</th>\n",
       "      <th>Birth Date</th>\n",
       "      <th>Birth Year</th>\n",
       "      <th>Citizenship Country</th>\n",
       "      <th>Gender</th>\n",
       "      <th>Apprehension Site Landmark</th>\n",
       "      <th>Alien File Number</th>\n",
       "      <th>EID Case ID</th>\n",
       "      <th>EID Subject ID</th>\n",
       "      <th>Unique Identifier</th>\n",
       "    </tr>\n",
       "  </thead>\n",
       "  <tbody>\n",
       "    <tr>\n",
       "      <th>count</th>\n",
       "      <td>265226</td>\n",
       "      <td>208983</td>\n",
       "      <td>0.0</td>\n",
       "      <td>259323</td>\n",
       "      <td>265226</td>\n",
       "      <td>265226</td>\n",
       "      <td>265226</td>\n",
       "      <td>265226</td>\n",
       "      <td>261328</td>\n",
       "      <td>261328</td>\n",
       "      <td>...</td>\n",
       "      <td>160289</td>\n",
       "      <td>265226</td>\n",
       "      <td>265226.000000</td>\n",
       "      <td>265226</td>\n",
       "      <td>265226</td>\n",
       "      <td>259126</td>\n",
       "      <td>263203</td>\n",
       "      <td>261328</td>\n",
       "      <td>265226</td>\n",
       "      <td>263203</td>\n",
       "    </tr>\n",
       "    <tr>\n",
       "      <th>unique</th>\n",
       "      <td>NaN</td>\n",
       "      <td>61</td>\n",
       "      <td>NaN</td>\n",
       "      <td>26</td>\n",
       "      <td>14</td>\n",
       "      <td>1</td>\n",
       "      <td>25</td>\n",
       "      <td>3</td>\n",
       "      <td>13</td>\n",
       "      <td>29</td>\n",
       "      <td>...</td>\n",
       "      <td>NaN</td>\n",
       "      <td>1</td>\n",
       "      <td>NaN</td>\n",
       "      <td>194</td>\n",
       "      <td>3</td>\n",
       "      <td>4968</td>\n",
       "      <td>1</td>\n",
       "      <td>1</td>\n",
       "      <td>1</td>\n",
       "      <td>249872</td>\n",
       "    </tr>\n",
       "    <tr>\n",
       "      <th>top</th>\n",
       "      <td>NaN</td>\n",
       "      <td>TEXAS</td>\n",
       "      <td>NaN</td>\n",
       "      <td>Miami Area of Responsibility</td>\n",
       "      <td>ERO Criminal Alien Program</td>\n",
       "      <td>ICE</td>\n",
       "      <td>CAP Local Incarceration</td>\n",
       "      <td>1 Convicted Criminal</td>\n",
       "      <td>ACTIVE</td>\n",
       "      <td>[8C] Excludable / Inadmissible - Administrativ...</td>\n",
       "      <td>...</td>\n",
       "      <td>NaN</td>\n",
       "      <td>(b)(6), (b)(7)(C)</td>\n",
       "      <td>NaN</td>\n",
       "      <td>MEXICO</td>\n",
       "      <td>Male</td>\n",
       "      <td>DALLAS COUNTY GENERAL AREA</td>\n",
       "      <td>(b)(6), (b)(7)(C)</td>\n",
       "      <td>(b)(6), (b)(7)(C), (b)(7)(E)</td>\n",
       "      <td>(b)(6), (b)(7)(C), (b)(7)(E)</td>\n",
       "      <td>1e2ec1831c1fd33fdb93b412699a798db3544957</td>\n",
       "    </tr>\n",
       "    <tr>\n",
       "      <th>freq</th>\n",
       "      <td>NaN</td>\n",
       "      <td>52778</td>\n",
       "      <td>NaN</td>\n",
       "      <td>26925</td>\n",
       "      <td>162433</td>\n",
       "      <td>265226</td>\n",
       "      <td>112103</td>\n",
       "      <td>123124</td>\n",
       "      <td>111110</td>\n",
       "      <td>76599</td>\n",
       "      <td>...</td>\n",
       "      <td>NaN</td>\n",
       "      <td>265226</td>\n",
       "      <td>NaN</td>\n",
       "      <td>101036</td>\n",
       "      <td>230238</td>\n",
       "      <td>11105</td>\n",
       "      <td>263203</td>\n",
       "      <td>261328</td>\n",
       "      <td>265226</td>\n",
       "      <td>7</td>\n",
       "    </tr>\n",
       "    <tr>\n",
       "      <th>mean</th>\n",
       "      <td>2024-09-27 10:56:18.055142144</td>\n",
       "      <td>NaN</td>\n",
       "      <td>NaN</td>\n",
       "      <td>NaN</td>\n",
       "      <td>NaN</td>\n",
       "      <td>NaN</td>\n",
       "      <td>NaN</td>\n",
       "      <td>NaN</td>\n",
       "      <td>NaN</td>\n",
       "      <td>NaN</td>\n",
       "      <td>...</td>\n",
       "      <td>2021-01-25 01:16:33.043814656</td>\n",
       "      <td>NaN</td>\n",
       "      <td>1989.950356</td>\n",
       "      <td>NaN</td>\n",
       "      <td>NaN</td>\n",
       "      <td>NaN</td>\n",
       "      <td>NaN</td>\n",
       "      <td>NaN</td>\n",
       "      <td>NaN</td>\n",
       "      <td>NaN</td>\n",
       "    </tr>\n",
       "    <tr>\n",
       "      <th>min</th>\n",
       "      <td>2023-09-01 00:00:00</td>\n",
       "      <td>NaN</td>\n",
       "      <td>NaN</td>\n",
       "      <td>NaN</td>\n",
       "      <td>NaN</td>\n",
       "      <td>NaN</td>\n",
       "      <td>NaN</td>\n",
       "      <td>NaN</td>\n",
       "      <td>NaN</td>\n",
       "      <td>NaN</td>\n",
       "      <td>...</td>\n",
       "      <td>1967-01-06 00:00:00</td>\n",
       "      <td>NaN</td>\n",
       "      <td>1934.000000</td>\n",
       "      <td>NaN</td>\n",
       "      <td>NaN</td>\n",
       "      <td>NaN</td>\n",
       "      <td>NaN</td>\n",
       "      <td>NaN</td>\n",
       "      <td>NaN</td>\n",
       "      <td>NaN</td>\n",
       "    </tr>\n",
       "    <tr>\n",
       "      <th>25%</th>\n",
       "      <td>2024-03-29 06:39:15</td>\n",
       "      <td>NaN</td>\n",
       "      <td>NaN</td>\n",
       "      <td>NaN</td>\n",
       "      <td>NaN</td>\n",
       "      <td>NaN</td>\n",
       "      <td>NaN</td>\n",
       "      <td>NaN</td>\n",
       "      <td>NaN</td>\n",
       "      <td>NaN</td>\n",
       "      <td>...</td>\n",
       "      <td>2019-04-29 00:00:00</td>\n",
       "      <td>NaN</td>\n",
       "      <td>1983.000000</td>\n",
       "      <td>NaN</td>\n",
       "      <td>NaN</td>\n",
       "      <td>NaN</td>\n",
       "      <td>NaN</td>\n",
       "      <td>NaN</td>\n",
       "      <td>NaN</td>\n",
       "      <td>NaN</td>\n",
       "    </tr>\n",
       "    <tr>\n",
       "      <th>50%</th>\n",
       "      <td>2024-11-04 07:40:00</td>\n",
       "      <td>NaN</td>\n",
       "      <td>NaN</td>\n",
       "      <td>NaN</td>\n",
       "      <td>NaN</td>\n",
       "      <td>NaN</td>\n",
       "      <td>NaN</td>\n",
       "      <td>NaN</td>\n",
       "      <td>NaN</td>\n",
       "      <td>NaN</td>\n",
       "      <td>...</td>\n",
       "      <td>2024-03-25 00:00:00</td>\n",
       "      <td>NaN</td>\n",
       "      <td>1991.000000</td>\n",
       "      <td>NaN</td>\n",
       "      <td>NaN</td>\n",
       "      <td>NaN</td>\n",
       "      <td>NaN</td>\n",
       "      <td>NaN</td>\n",
       "      <td>NaN</td>\n",
       "      <td>NaN</td>\n",
       "    </tr>\n",
       "    <tr>\n",
       "      <th>75%</th>\n",
       "      <td>2025-04-03 08:49:45</td>\n",
       "      <td>NaN</td>\n",
       "      <td>NaN</td>\n",
       "      <td>NaN</td>\n",
       "      <td>NaN</td>\n",
       "      <td>NaN</td>\n",
       "      <td>NaN</td>\n",
       "      <td>NaN</td>\n",
       "      <td>NaN</td>\n",
       "      <td>NaN</td>\n",
       "      <td>...</td>\n",
       "      <td>2025-01-23 00:00:00</td>\n",
       "      <td>NaN</td>\n",
       "      <td>1998.000000</td>\n",
       "      <td>NaN</td>\n",
       "      <td>NaN</td>\n",
       "      <td>NaN</td>\n",
       "      <td>NaN</td>\n",
       "      <td>NaN</td>\n",
       "      <td>NaN</td>\n",
       "      <td>NaN</td>\n",
       "    </tr>\n",
       "    <tr>\n",
       "      <th>max</th>\n",
       "      <td>2025-06-27 09:38:00</td>\n",
       "      <td>NaN</td>\n",
       "      <td>NaN</td>\n",
       "      <td>NaN</td>\n",
       "      <td>NaN</td>\n",
       "      <td>NaN</td>\n",
       "      <td>NaN</td>\n",
       "      <td>NaN</td>\n",
       "      <td>NaN</td>\n",
       "      <td>NaN</td>\n",
       "      <td>...</td>\n",
       "      <td>2025-06-26 00:00:00</td>\n",
       "      <td>NaN</td>\n",
       "      <td>2024.000000</td>\n",
       "      <td>NaN</td>\n",
       "      <td>NaN</td>\n",
       "      <td>NaN</td>\n",
       "      <td>NaN</td>\n",
       "      <td>NaN</td>\n",
       "      <td>NaN</td>\n",
       "      <td>NaN</td>\n",
       "    </tr>\n",
       "    <tr>\n",
       "      <th>std</th>\n",
       "      <td>NaN</td>\n",
       "      <td>NaN</td>\n",
       "      <td>NaN</td>\n",
       "      <td>NaN</td>\n",
       "      <td>NaN</td>\n",
       "      <td>NaN</td>\n",
       "      <td>NaN</td>\n",
       "      <td>NaN</td>\n",
       "      <td>NaN</td>\n",
       "      <td>NaN</td>\n",
       "      <td>...</td>\n",
       "      <td>NaN</td>\n",
       "      <td>NaN</td>\n",
       "      <td>11.018163</td>\n",
       "      <td>NaN</td>\n",
       "      <td>NaN</td>\n",
       "      <td>NaN</td>\n",
       "      <td>NaN</td>\n",
       "      <td>NaN</td>\n",
       "      <td>NaN</td>\n",
       "      <td>NaN</td>\n",
       "    </tr>\n",
       "  </tbody>\n",
       "</table>\n",
       "<p>11 rows × 23 columns</p>\n",
       "</div>"
      ],
      "text/plain": [
       "                    Apprehension Date Apprehension State  Apprehension County  \\\n",
       "count                          265226             208983                  0.0   \n",
       "unique                            NaN                 61                  NaN   \n",
       "top                               NaN              TEXAS                  NaN   \n",
       "freq                              NaN              52778                  NaN   \n",
       "mean    2024-09-27 10:56:18.055142144                NaN                  NaN   \n",
       "min               2023-09-01 00:00:00                NaN                  NaN   \n",
       "25%               2024-03-29 06:39:15                NaN                  NaN   \n",
       "50%               2024-11-04 07:40:00                NaN                  NaN   \n",
       "75%               2025-04-03 08:49:45                NaN                  NaN   \n",
       "max               2025-06-27 09:38:00                NaN                  NaN   \n",
       "std                               NaN                NaN                  NaN   \n",
       "\n",
       "                    Apprehension AOR               Final Program  \\\n",
       "count                         259323                      265226   \n",
       "unique                            26                          14   \n",
       "top     Miami Area of Responsibility  ERO Criminal Alien Program   \n",
       "freq                           26925                      162433   \n",
       "mean                             NaN                         NaN   \n",
       "min                              NaN                         NaN   \n",
       "25%                              NaN                         NaN   \n",
       "50%                              NaN                         NaN   \n",
       "75%                              NaN                         NaN   \n",
       "max                              NaN                         NaN   \n",
       "std                              NaN                         NaN   \n",
       "\n",
       "       Final Program Group      Apprehension Method Apprehension Criminality  \\\n",
       "count               265226                   265226                   265226   \n",
       "unique                   1                       25                        3   \n",
       "top                    ICE  CAP Local Incarceration     1 Convicted Criminal   \n",
       "freq                265226                   112103                   123124   \n",
       "mean                   NaN                      NaN                      NaN   \n",
       "min                    NaN                      NaN                      NaN   \n",
       "25%                    NaN                      NaN                      NaN   \n",
       "50%                    NaN                      NaN                      NaN   \n",
       "75%                    NaN                      NaN                      NaN   \n",
       "max                    NaN                      NaN                      NaN   \n",
       "std                    NaN                      NaN                      NaN   \n",
       "\n",
       "       Case Status                                      Case Category  ...  \\\n",
       "count       261328                                             261328  ...   \n",
       "unique          13                                                 29  ...   \n",
       "top         ACTIVE  [8C] Excludable / Inadmissible - Administrativ...  ...   \n",
       "freq        111110                                              76599  ...   \n",
       "mean           NaN                                                NaN  ...   \n",
       "min            NaN                                                NaN  ...   \n",
       "25%            NaN                                                NaN  ...   \n",
       "50%            NaN                                                NaN  ...   \n",
       "75%            NaN                                                NaN  ...   \n",
       "max            NaN                                                NaN  ...   \n",
       "std            NaN                                                NaN  ...   \n",
       "\n",
       "                     Final Order Date         Birth Date     Birth Year  \\\n",
       "count                          160289             265226  265226.000000   \n",
       "unique                            NaN                  1            NaN   \n",
       "top                               NaN  (b)(6), (b)(7)(C)            NaN   \n",
       "freq                              NaN             265226            NaN   \n",
       "mean    2021-01-25 01:16:33.043814656                NaN    1989.950356   \n",
       "min               1967-01-06 00:00:00                NaN    1934.000000   \n",
       "25%               2019-04-29 00:00:00                NaN    1983.000000   \n",
       "50%               2024-03-25 00:00:00                NaN    1991.000000   \n",
       "75%               2025-01-23 00:00:00                NaN    1998.000000   \n",
       "max               2025-06-26 00:00:00                NaN    2024.000000   \n",
       "std                               NaN                NaN      11.018163   \n",
       "\n",
       "       Citizenship Country  Gender  Apprehension Site Landmark  \\\n",
       "count               265226  265226                      259126   \n",
       "unique                 194       3                        4968   \n",
       "top                 MEXICO    Male  DALLAS COUNTY GENERAL AREA   \n",
       "freq                101036  230238                       11105   \n",
       "mean                   NaN     NaN                         NaN   \n",
       "min                    NaN     NaN                         NaN   \n",
       "25%                    NaN     NaN                         NaN   \n",
       "50%                    NaN     NaN                         NaN   \n",
       "75%                    NaN     NaN                         NaN   \n",
       "max                    NaN     NaN                         NaN   \n",
       "std                    NaN     NaN                         NaN   \n",
       "\n",
       "        Alien File Number                   EID Case ID  \\\n",
       "count              263203                        261328   \n",
       "unique                  1                             1   \n",
       "top     (b)(6), (b)(7)(C)  (b)(6), (b)(7)(C), (b)(7)(E)   \n",
       "freq               263203                        261328   \n",
       "mean                  NaN                           NaN   \n",
       "min                   NaN                           NaN   \n",
       "25%                   NaN                           NaN   \n",
       "50%                   NaN                           NaN   \n",
       "75%                   NaN                           NaN   \n",
       "max                   NaN                           NaN   \n",
       "std                   NaN                           NaN   \n",
       "\n",
       "                      EID Subject ID                         Unique Identifier  \n",
       "count                         265226                                    263203  \n",
       "unique                             1                                    249872  \n",
       "top     (b)(6), (b)(7)(C), (b)(7)(E)  1e2ec1831c1fd33fdb93b412699a798db3544957  \n",
       "freq                          265226                                         7  \n",
       "mean                             NaN                                       NaN  \n",
       "min                              NaN                                       NaN  \n",
       "25%                              NaN                                       NaN  \n",
       "50%                              NaN                                       NaN  \n",
       "75%                              NaN                                       NaN  \n",
       "max                              NaN                                       NaN  \n",
       "std                              NaN                                       NaN  \n",
       "\n",
       "[11 rows x 23 columns]"
      ]
     },
     "execution_count": 5,
     "metadata": {},
     "output_type": "execute_result"
    }
   ],
   "source": [
    "# List the column names\n",
    "print(\"Column names:\", df_arrests.columns.tolist())\n",
    "\n",
    "# Show a statistical summary for each column\n",
    "df_arrests.describe(include='all')\n",
    "\n"
   ]
  },
  {
   "cell_type": "code",
   "execution_count": 6,
   "id": "3f65d447",
   "metadata": {},
   "outputs": [
    {
     "name": "stdout",
     "output_type": "stream",
     "text": [
      "\n",
      "Data types for each column:\n",
      "Apprehension Date             datetime64[ns]\n",
      "Apprehension State                    object\n",
      "Apprehension County                  float64\n",
      "Apprehension AOR                      object\n",
      "Final Program                         object\n",
      "Final Program Group                   object\n",
      "Apprehension Method                   object\n",
      "Apprehension Criminality              object\n",
      "Case Status                           object\n",
      "Case Category                         object\n",
      "Departed Date                 datetime64[ns]\n",
      "Departure Country                     object\n",
      "Final Order Yes No                    object\n",
      "Final Order Date              datetime64[ns]\n",
      "Birth Date                            object\n",
      "Birth Year                             int64\n",
      "Citizenship Country                   object\n",
      "Gender                                object\n",
      "Apprehension Site Landmark            object\n",
      "Alien File Number                     object\n",
      "EID Case ID                           object\n",
      "EID Subject ID                        object\n",
      "Unique Identifier                     object\n",
      "dtype: object\n"
     ]
    }
   ],
   "source": [
    "# Show the data type of each column\n",
    "print(\"\\nData types for each column:\")\n",
    "print(df_arrests.dtypes)"
   ]
  },
  {
   "cell_type": "code",
   "execution_count": 7,
   "id": "fd4e7b99",
   "metadata": {},
   "outputs": [],
   "source": [
    "#Making sure data is clean, frequency table for each column in df_arrests\n",
    "\n",
    "# Create a frequency table for each column in df_arrests, including counts and percentages, and save to CSV\n",
    "\n",
    "freq_tables = []\n",
    "\n",
    "for col in df_arrests.columns:\n",
    "    counts = df_arrests[col].value_counts(dropna=False)\n",
    "    percentages = df_arrests[col].value_counts(normalize=True, dropna=False) * 100\n",
    "    freq_df = pd.DataFrame({\n",
    "        'column': col,\n",
    "        'value': counts.index,\n",
    "        'count': counts.values,\n",
    "        'percentage': percentages.values\n",
    "    })\n",
    "    freq_tables.append(freq_df)\n",
    "\n",
    "# Concatenate all frequency tables into one DataFrame\n",
    "all_freq_df = pd.concat(freq_tables, ignore_index=True)\n",
    "\n",
    "# Save to CSV\n",
    "all_freq_df.to_csv('outputs/arrests_frequency_tables.csv', index=False)\n",
    "\n",
    "\n",
    "    "
   ]
  },
  {
   "cell_type": "code",
   "execution_count": 8,
   "id": "418f0294",
   "metadata": {},
   "outputs": [],
   "source": [
    "# Writing a function in case this task is needed for other dataframes\n",
    "\n",
    "def save_frequency_tables(df, csv_path):\n",
    "    \"\"\"\n",
    "    Creates a frequency table for each column in the DataFrame, including counts and percentages,\n",
    "    concatenates them, and saves to a CSV file.\n",
    "\n",
    "    Parameters:\n",
    "        df (pd.DataFrame): The DataFrame to analyze.\n",
    "        csv_path (str): The path to save the resulting CSV file.\n",
    "    \"\"\"\n",
    "    freq_tables = []\n",
    "    for col in df.columns:\n",
    "        counts = df[col].value_counts(dropna=False)\n",
    "        percentages = df[col].value_counts(normalize=True, dropna=False) * 100\n",
    "        freq_df = pd.DataFrame({\n",
    "            'column': col,\n",
    "            'value': counts.index,\n",
    "            'count': counts.values,\n",
    "            'percentage': percentages.values\n",
    "        })\n",
    "        freq_tables.append(freq_df)\n",
    "    all_freq_df = pd.concat(freq_tables, ignore_index=True)\n",
    "    all_freq_df.to_csv(csv_path, index=False)\n",
    "    return all_freq_df\n",
    "\n"
   ]
  },
  {
   "cell_type": "code",
   "execution_count": 9,
   "id": "bc02d6a0",
   "metadata": {},
   "outputs": [],
   "source": [
    "\n",
    "\n",
    "# Ensure \"Apprehension Date\" is datetime\n",
    "df_arrests[\"Apprehension Date\"] = pd.to_datetime(df_arrests[\"Apprehension Date\"], errors=\"coerce\")\n",
    "\n",
    "# Define date range: two days before and after 2025-03-08\n",
    "start_date = pd.Timestamp(\"2025-03-06\")\n",
    "end_date = pd.Timestamp(\"2025-03-09\")\n",
    "\n",
    "# Filter by date\n",
    "date_mask = (df_arrests[\"Apprehension Date\"] >= start_date) & (df_arrests[\"Apprehension Date\"] <= end_date)\n",
    "\n",
    "# Filter by year of birth\n",
    "\n",
    "birth_mask = df_arrests[\"Birth Year\"].between(1994, 1996)\n",
    "\n",
    "# Filter by \"New York\" in the appropriate column \n",
    "# Replace 'Field Office' with the actual column name if different\n",
    "location_mask = df_arrests[\"Apprehension AOR\"] == \"New York City Area of Responsibility\"\n",
    "\n",
    "# Filter by \"Located\" OR \"Non-custodial Arrest\" in \"Aprehension method\" column\n",
    "method_mask = df_arrests[\"Apprehension Method\"].isin([\"Located\", \"Non-custodial Arrest\"])\n",
    "\n",
    "# Combine all filters\n",
    "filtered_df = df_arrests[date_mask & location_mask & method_mask]\n"
   ]
  },
  {
   "cell_type": "markdown",
   "id": "99ffae8b",
   "metadata": {},
   "source": []
  },
  {
   "cell_type": "code",
   "execution_count": 10,
   "id": "dbdec8ee",
   "metadata": {},
   "outputs": [],
   "source": [
    "# Save to CSV\n",
    "filtered_df.to_csv('outputs/tables/arrests_filtered_table.csv', index=False)\n",
    "\n"
   ]
  },
  {
   "cell_type": "markdown",
   "id": "1d21aff7",
   "metadata": {},
   "source": [
    "## Task 2 finding jails or prisons individuales have been taken to and adding a County column\n",
    "\n",
    "\n",
    "The team wants to understand whether the \"Apprehension Site Landmark\" column could provide clues about potential partnerships between local and state law enforcement and ICE.\n",
    "\n",
    "Use this column to help identify which jail or prison individuals have been taken to, where available. Add one column to the dataset indicating the name of the facility, and another showing the county where that facility is located.\n",
    "\n",
    "---\n",
    "\n",
    "This is not the most accurate way to obtain information on what jails, facilities and counties individuales have been take to, since this information is available in the rest of the tables of the dataset, detentions and detainers. However, within the dataset, \"Apprehension Site Landmark\" is indeed the most granular variable relevant to the county of apprehension and jails or prisons, as AOR can cover more than one state and hence not very tied to counties at all. \n",
    "\n",
    "String analysis based on string lenght within the column shows most common arrangements that are not part of the name of the county before the word \"county\" are \"Fugitive Operations\" or \"Fugitive operations on street\" or \"At large arrest\", \"All areas inside\", \"CAP\", standing for Custody Alternatives Program and a combination of one to three letters, a white space before and after a dash, stating the abbreviation of a state, all of which I excluded to then extract the counties from the column. \n",
    "\n",
    "I created a function that detects a parameter, in this case a string, that can be changed from \"county\" to \"jail\" and \"prison\", or \"facility\". It excludes the said patterns and then retrieves all words before each of these two words. Then I extracted the string match to one of two columns: either \"county_name\" or \"facility_name\". \n",
    "\n",
    "The objective is to look for in the column for commons ways to refer to prisons and match those patterns in the Apprehension Site Landamark. \n",
    "\n",
    "With this method, though, there is only the possibility to retrieve 44% of the counties.\n",
    "\n",
    "For the facilities, I included in my function a way to detect the most commons facility patterns: the words \"center\", \"correctional\", \"penitentiary\", \"removal\", \"office\", \"department\" as the end words of such terms as \"service processing center\", for instance and that may relate to collaboration with local enforcement authorities (LEA). This approach is still incomplete, as it only renders 32% of the total values of the arrest. "
   ]
  },
  {
   "cell_type": "code",
   "execution_count": 11,
   "id": "87bcaf9e",
   "metadata": {},
   "outputs": [],
   "source": [
    "###Cleaning \"Apprehension Site Landmark\" column\n",
    "\n",
    "# Function to strip whitespaces and check for inconsistent casing\n",
    "\n",
    "def clean_and_check_column(df, col_name):\n",
    "    \"\"\"\n",
    "    Cleans the specified column in the DataFrame by stripping leading/trailing spaces,\n",
    "    checks for inconsistent casing of 'county', and prints a summary of inconsistencies.\n",
    "\n",
    "    Parameters:\n",
    "        df (pd.DataFrame): The DataFrame to analyze.\n",
    "        col_name (str): The name of the column to clean and check.\n",
    "    \"\"\"\n",
    "    # Strip leading/trailing spaces\n",
    "    df[col_name] = df[col_name].astype(str).str.strip()\n",
    "    \n",
    "    # Check for inconsistent casing\n",
    "    has_upper = df[col_name].str.contains(\"COUNTY\")\n",
    "    has_lower = df[col_name].str.contains(\"county\")\n",
    "    count_upper = has_upper.sum()\n",
    "    count_lower = has_lower.sum()\n",
    "    \n",
    "    if count_upper > 0 and count_lower > 0:\n",
    "        print(f\"Inconsistency found: {count_upper} rows use 'COUNTY', {count_lower} rows use 'county'.\")\n",
    "    elif count_upper > 0:\n",
    "        print(\"All rows use 'COUNTY' (uppercase).\")\n",
    "    elif count_lower > 0:\n",
    "        print(\"All rows use 'county' (lowercase).\")\n",
    "    else:\n",
    "        print(\"No rows contain the word 'county' or 'COUNTY'.\")\n",
    "    \n",
    "    # Check for leading/trailing spaces\n",
    "    leading_spaces = df[col_name].str.match(r\"^\\s+\").sum()\n",
    "    trailing_spaces = df[col_name].str.match(r\".*\\s+$\").sum()\n",
    "    if leading_spaces > 0 or trailing_spaces > 0:\n",
    "        print(f\"Found {leading_spaces} rows with leading spaces and {trailing_spaces} rows with trailing spaces.\")\n",
    "    else:\n",
    "        print(\"No leading or trailing spaces found.\")\n",
    "\n"
   ]
  },
  {
   "cell_type": "code",
   "execution_count": 12,
   "id": "74dcc460",
   "metadata": {},
   "outputs": [
    {
     "name": "stdout",
     "output_type": "stream",
     "text": [
      "All rows use 'COUNTY' (uppercase).\n",
      "No leading or trailing spaces found.\n"
     ]
    }
   ],
   "source": [
    "# Applying function to the \"Apprehension Site Landmark\" column\n",
    "\n",
    "clean_and_check_column(df_arrests, \"Apprehension Site Landmark\")"
   ]
  },
  {
   "cell_type": "code",
   "execution_count": 13,
   "id": "84e9cae2",
   "metadata": {},
   "outputs": [],
   "source": [
    "# Understanding the structure of strings, possible number of words before \"COUNTY\" (I'll make it case insensitive anyways)\n",
    "\n",
    "def words_before_county(text):\n",
    "    \"\"\"\n",
    "    Returns the number of words before the word 'county' (case-insensitive) in a string.\n",
    "    Returns None if 'county' is not found.\n",
    "    \"\"\"\n",
    "    if not isinstance(text, str):\n",
    "        return None\n",
    "    match = re.search(r'\\b(\\w+(?:\\s+\\w+)*)\\s+county\\b', text, re.IGNORECASE)\n",
    "    if match:\n",
    "        before = match.group(1)\n",
    "        return len(before.split())\n",
    "    return None"
   ]
  },
  {
   "cell_type": "code",
   "execution_count": 14,
   "id": "e1c217fe",
   "metadata": {},
   "outputs": [
    {
     "name": "stdout",
     "output_type": "stream",
     "text": [
      "Range of number of words before 'county': 1.0 to 6.0\n"
     ]
    }
   ],
   "source": [
    "# Apply to the column and get the range\n",
    "word_counts = df_arrests[\"Apprehension Site Landmark\"].dropna().apply(words_before_county)\n",
    "print(\"Range of number of words before 'county':\", word_counts.min(), \"to\", word_counts.max())"
   ]
  },
  {
   "cell_type": "code",
   "execution_count": 15,
   "id": "fa686d34",
   "metadata": {},
   "outputs": [],
   "source": [
    "# Understand what is the pattern in string with more than three words before \"COUNTY\"\n",
    "\n",
    "# Function to count words before 'county'\n",
    "def words_before_county(text):\n",
    "    \"\"\"\n",
    "    Returns the number of words before the word 'county' (case-insensitive) in a string.\n",
    "    Returns None if 'county' is not found.\n",
    "    \"\"\"\n",
    "    if not isinstance(text, str):\n",
    "        return None\n",
    "    match = re.search(r'\\b(\\w+(?:\\s+\\w+)*)\\s+county\\b', text, re.IGNORECASE)\n",
    "    if match:\n",
    "        before = match.group(1)\n",
    "        return len(before.split())\n",
    "    return None\n",
    "\n",
    "# Apply function and filter rows with more than 3 words before 'county'\n",
    "df_arrests['words_before_county'] = df_arrests[\"Apprehension Site Landmark\"].apply(words_before_county)\n",
    "result = df_arrests[df_arrests['words_before_county'] > 2]\n",
    "\n"
   ]
  },
  {
   "cell_type": "code",
   "execution_count": 16,
   "id": "1c2e90b7",
   "metadata": {},
   "outputs": [],
   "source": [
    "def extract_cleaned_phrases(text, basis_word=\"county\"):\n",
    "    \"\"\"\n",
    "    For each instance of the basis_word (e.g., 'county'), remove unwanted phrases/patterns before it,\n",
    "    and extract the cleaned phrase before and including the basis_word.\n",
    "    Returns a single string with all such cleaned phrases joined by '; ', or None if nothing found.\n",
    "    \"\"\"\n",
    "    if not isinstance(text, str):\n",
    "        return None\n",
    "\n",
    "    unwanted_phrases = [\n",
    "        r\"fugitive operations\",\n",
    "        r\"fugitive operations on street\",\n",
    "        r\"at large arrest\",\n",
    "        r\"all areas inside\",\n",
    "        r\"cap\",\n",
    "        r\"\\b[a-zA-Z]{1,3}\\s-\\s\"\n",
    "    ]\n",
    "    unwanted_pattern = re.compile(\"|\".join(unwanted_phrases), re.IGNORECASE)\n",
    "\n",
    "    results = []\n",
    "    for match in re.finditer(rf\"(.*?\\b{basis_word}\\b)\", text, re.IGNORECASE):\n",
    "        phrase = match.group(1)\n",
    "        cleaned = unwanted_pattern.sub(\"\", phrase)\n",
    "        cleaned = cleaned.strip()\n",
    "        if cleaned:\n",
    "            results.append(cleaned)\n",
    "    if not results:\n",
    "        return None\n",
    "    return \"; \".join(results)\n",
    "\n",
    "\n"
   ]
  },
  {
   "cell_type": "code",
   "execution_count": 17,
   "id": "82c6965d",
   "metadata": {},
   "outputs": [],
   "source": [
    "# Apply function to word \"county\"\n",
    "\n",
    "df_arrests[\"county_name\"] = df_arrests[\"Apprehension Site Landmark\"].apply(\n",
    "    lambda x: extract_cleaned_phrases(x, basis_word=\"county\")\n",
    "    )"
   ]
  },
  {
   "cell_type": "code",
   "execution_count": 18,
   "id": "61cfa714",
   "metadata": {},
   "outputs": [],
   "source": [
    "import numpy as np\n",
    "\n",
    "df_arrests[\"county_name\"] = (\n",
    "    df_arrests[\"county_name\"]\n",
    "    .where(df_arrests[\"county_name\"].notna(), np.nan)  # keep NaN\n",
    "    .astype(str)\n",
    "    .str.strip()\n",
    "    .str.replace(r\"^\\s*-\\s*\", \"\", regex=True)  # removes any leading dash with optional spaces\n",
    "    .str.upper()\n",
    "    .replace(\"NAN\", np.nan)  # convert string \"NAN\" back to np.nan\n",
    ")"
   ]
  },
  {
   "cell_type": "markdown",
   "id": "74ce9481",
   "metadata": {},
   "source": [
    "Facilities\n"
   ]
  },
  {
   "cell_type": "code",
   "execution_count": 19,
   "id": "8cac07c5",
   "metadata": {},
   "outputs": [],
   "source": [
    "# Create function to extract patterns related to jails, prisons, correcitionals and other facilities\n",
    "\n",
    "def extract_cleaned_phrases_multiple(text, basis_words=None):\n",
    "    \"\"\"\n",
    "    For each instance of any word in basis_words (e.g., ['county', 'jail', 'center', ...]), \n",
    "    remove unwanted phrases/patterns before it, and extract the cleaned phrase before and including the basis word.\n",
    "    Returns a single string with all such cleaned phrases joined by '; ', or None if nothing found.\n",
    "    \"\"\"\n",
    "    if not isinstance(text, str) or not basis_words:\n",
    "        return None\n",
    "\n",
    "    # Unwanted phrases/patterns (case-insensitive)\n",
    "    unwanted_phrases = [\n",
    "        r\"fugitive operations\",\n",
    "        r\"fugitive operations on street\",\n",
    "        r\"at large arrest\",\n",
    "        r\"all areas inside\",\n",
    "        r\"cap\",\n",
    "        r\"\\b[a-zA-Z]{1,3}\\s-\\s\"\n",
    "    ]\n",
    "    unwanted_pattern = re.compile(\"|\".join(unwanted_phrases), re.IGNORECASE)\n",
    "\n",
    "    results = []\n",
    "    for basis_word in basis_words:\n",
    "        # Regex to find all phrases ending with the basis_word (case-insensitive)\n",
    "        for match in re.finditer(rf\"(.*?\\b{basis_word}\\b)\", text, re.IGNORECASE):\n",
    "            phrase = match.group(1)\n",
    "            cleaned = unwanted_pattern.sub(\"\", phrase)\n",
    "            cleaned = cleaned.strip()\n",
    "            if cleaned:\n",
    "                results.append(cleaned)\n",
    "    if not results:\n",
    "        return None\n",
    "    return \"; \".join(results)"
   ]
  },
  {
   "cell_type": "code",
   "execution_count": 20,
   "id": "5de11639",
   "metadata": {},
   "outputs": [],
   "source": [
    "df_arrests[\"facility_name\"] = df_arrests[\"Apprehension Site Landmark\"].apply(\n",
    "    lambda x: extract_cleaned_phrases_multiple(x, basis_words=[\"jail\", \"center\",\"office\", \"department\", \"prison\", \"correctional\", \"penitentiary\", \"removal\"])\n",
    "    )\n",
    "\n"
   ]
  },
  {
   "cell_type": "code",
   "execution_count": 21,
   "id": "bba4fa56",
   "metadata": {},
   "outputs": [],
   "source": [
    "#Making sure the facility column is clean\n",
    "df_arrests[\"facility_name\"] = (\n",
    "    df_arrests[\"facility_name\"]\n",
    "    .where(df_arrests[\"facility_name\"].notna(), np.nan)  # keep NaN\n",
    "    .astype(str)\n",
    "    .str.strip()\n",
    "    .str.replace(r\"^\\s*-\\s*\", \"\", regex=True)  # removes any leading dash with optional spaces\n",
    "    .str.upper()\n",
    "    .replace(\"NAN\", np.nan)  # convert string \"NAN\" back to np.nan\n",
    ")"
   ]
  },
  {
   "cell_type": "markdown",
   "id": "807c5c19",
   "metadata": {},
   "source": [
    "### Task 3 - Drafting questions\n",
    "\n",
    "A major responsibility of the data team is to both assist reporters by using their ground reporting as a starting point for quantitative analysis as well as to suggest questions and data the reporter may not have thought to ask in order to reveal more systemic patterns beyond anecdotal cases of wrongdoing. \n",
    "\n",
    "##Step 1\n",
    "\n",
    "In the brief, a reporter mentioned that very little is known about the background of people who have been most targeted under the new program and where. They want to figure this out.\n",
    "\n",
    "Please transform the reporter's editorial goal into a question that can be answered with this data set. \n",
    "----\n",
    "The question to be answered only with the arrests dataset: \n",
    "\n",
    "What are the groups most targeted by administrative arrests enforced by ERO in the US, and which fall under apprehension methods linked to local enforcement participation, broken down by national background (citizenship country), gender, age group, Apprehension Criminality, States* (there is 20% missing data) counties* (data is not complete from this table) and facility (also incomplete data) between the previous terms and the current presidency term. \n",
    "\n",
    "## Step 2\n",
    "\n",
    "Please draft two additional questions that could provide quantitative evidence for potential leads brought up in the brief.\n",
    "\n",
    "One of the hyphotesis of the team is that procedures are being rushed more in the latest term to preempt legal actions by family members of organizations who defend migran rights. Coverage shows that many other legal procedures, such as the need of showing a warrant in all (though not in all) cases, have been overlooked by ICE ERO's personnel in order to fulfill arrests quotas promoted in public discourse by the current administration. One question to ask the database is **How has the time-span between the arrest date, the final order date and the departed date shortened or changed between this term and the previous term?**\n",
    "\n",
    "Another hypothesis is that the program 287 is especially being used to incorporate local officers into the scarce numbers of ICE agents, also to fulfill the number of deportations in the public discourse of the current administration. Another question to make is **What are the proportions of arrests performed with the 287(g) program increased comparatively to the same period in the Biden administration and in comparison to the overall term?**\n",
    "\n",
    "\n",
    "## Step 3\n",
    "\n",
    "Please draft one additional question that you think would advance the goals of the investigation on a systemic level that can be answered with this dataset. This should be your own original idea and should not relate to any idea that was already brought up as part of the brief.\n",
    "\n",
    "\n",
    "The program in question is not the only one that points to participation of local enforcemente agencies in what is otherwise a task for ICE's ERO forces. From legal assesments and local reporting it can be deducted that other programs, such as CAP State and Local incarceration, but also Law Enforcement Agency and Response units established as a pilot program in Phoenix which account for assitance calls to local LEA, point to the cooptation of local and state police officers in ICE affairs. In many videos, after traffic checks, also migrants are being picked up that end up rising flags for deportations. \n",
    "\n",
    "The question to make is **What other methods of apprehension, in combination with the newly created facility column, can point to the participation of local enforcement agencies in the process of administrative arrests? How do this other methods compare to the previous term?**\n",
    "\n",
    "## Step 4\n",
    "\n",
    "Please draft one additional question to advance the investigation that you believe could be answered by using the  Arrests dataset in conjunction with any other data included in the recent DeportationData.org release.\n",
    "\n",
    "There are two very relevant tables in the dataset: \"Detainers\" and \"Detentions\". The dataset documentation states that a detainer is a request for a local jail to keep detainees for more than 48 hours without any charges and beyond when they usually should be released. The detainers table includes information on which detainers are honoured if compared with the arrests table that has a \"departed\" date, which means local officers collaborated in the final deportation of the person. There are other variables in the \"Detentions\" table, such as the detentions facility that confirms that a detention was put on hold after a detainers. \n",
    "\n",
    "The question to make is **What number of unique identifiers of arrests that lead to a departure date, implying an effective deportation, are also present in the detentions database and allow to follow the detainees to a process where local enforcement was definitely involved?**\n"
   ]
  },
  {
   "cell_type": "markdown",
   "id": "8e5555c5",
   "metadata": {},
   "source": [
    "### Task 4 - Analysis\n",
    "\n",
    "## Step 1\n",
    "\n",
    "From Task 3 Step 1, analyze how the national background of those arrested changed before and after the start of the second Trump administration, broken down by ICE Area of Responsibility (AOR).\n",
    "\n",
    "\n"
   ]
  },
  {
   "cell_type": "markdown",
   "id": "d41d7057",
   "metadata": {},
   "source": [
    "First I divide the general dataset in terms, you can find the resulting tables in data/processed"
   ]
  },
  {
   "cell_type": "code",
   "execution_count": 27,
   "id": "342c2a7c",
   "metadata": {},
   "outputs": [],
   "source": [
    "# Ensure Apprehension Date is datetime\n",
    "df_arrests[\"Apprehension Date\"] = pd.to_datetime(df_arrests[\"Apprehension Date\"], errors=\"coerce\")\n",
    "\n",
    "# Define date ranges\n",
    "trump_first_start = pd.Timestamp(\"2017-01-20\")\n",
    "trump_first_end = pd.Timestamp(\"2021-01-20\")\n",
    "biden_start = pd.Timestamp(\"2021-01-20\")\n",
    "biden_end = pd.Timestamp(\"2025-01-20\")\n",
    "trump_second_start = pd.Timestamp(\"2025-01-20\")\n",
    "\n",
    "# Filter and save\n",
    "trump_first_term = df_arrests[(df_arrests[\"Apprehension Date\"] >= trump_first_start) & (df_arrests[\"Apprehension Date\"] < trump_first_end)]\n",
    "biden_term = df_arrests[(df_arrests[\"Apprehension Date\"] >= biden_start) & (df_arrests[\"Apprehension Date\"] < trump_second_start)]\n",
    "trump_second_term = df_arrests[df_arrests[\"Apprehension Date\"] >= trump_second_start]\n",
    "\n",
    "trump_first_term.to_csv(\"data/processed/trump_first_term.csv\", index=False)\n",
    "biden_term.to_csv(\"data/processed/biden_term.csv\", index=False)\n",
    "trump_second_term.to_csv(\"data/processed/trump_second_term.csv\", index=False)\n",
    "\n",
    "# There is no data on Trump's first term"
   ]
  },
  {
   "cell_type": "code",
   "execution_count": 29,
   "id": "0dd60e21",
   "metadata": {},
   "outputs": [
    {
     "data": {
      "image/png": "[encoded data removed]",
      "text/plain": [
       "<Figure size 1200x700 with 1 Axes>"
      ]
     },
     "metadata": {},
     "output_type": "display_data"
    }
   ],
   "source": [
    "import matplotlib.pyplot as plt\n",
    "import numpy as np\n",
    "\n",
    "# Calculate age at apprehension for each record\n",
    "if \"Birth Year\" in df_arrests.columns and \"Apprehension Date\" in df_arrests.columns:\n",
    "    df_arrests[\"Age\"] = df_arrests[\"Apprehension Date\"].dt.year - df_arrests[\"Birth Year\"]\n",
    "else:\n",
    "    df_arrests[\"Age\"] = np.nan\n",
    "\n",
    "# Drop rows with missing or invalid ages\n",
    "age_gender_df = df_arrests[[\"Age\", \"Gender\"]].dropna()\n",
    "age_gender_df = age_gender_df[(age_gender_df[\"Age\"] > 0) & (age_gender_df[\"Age\"] < 100)]\n",
    "\n",
    "# Define 5-year bins\n",
    "bins = np.arange(0, 100 + 5, 5)\n",
    "labels = [f\"{i}-{i+4}\" for i in bins[:-1]]\n",
    "\n",
    "# Bin the ages\n",
    "age_gender_df[\"Age Group\"] = pd.cut(age_gender_df[\"Age\"], bins=bins, labels=labels, right=False)\n",
    "\n",
    "# Plot histogram grouped by gender\n",
    "plt.figure(figsize=(12, 7))\n",
    "for gender in age_gender_df[\"Gender\"].dropna().unique():\n",
    "    group = age_gender_df[age_gender_df[\"Gender\"] == gender]\n",
    "    group_counts = group[\"Age Group\"].value_counts().sort_index()\n",
    "    plt.bar(group_counts.index, group_counts.values, alpha=0.7, label=str(gender))\n",
    "\n",
    "plt.xlabel(\"Age Group\")\n",
    "plt.ylabel(\"Number of Arrests\")\n",
    "plt.title(\"Distribution of Age Groups (5-year bins) at Apprehension by Gender\")\n",
    "plt.xticks(rotation=45)\n",
    "plt.legend(title=\"Gender\")\n",
    "plt.tight_layout()\n",
    "plt.show()"
   ]
  },
  {
   "cell_type": "markdown",
   "id": "a4cc7298",
   "metadata": {},
   "source": [
    "Most targeted groups overall in any term are males (86.7 % of total arrests) in working ages, as 84.57% of total arrests among all population of the database are between the working age as defined by OCDE between 15-64 years old, the distribution peaks at 26-30 years for females and at 31-35 fo males as illustrated in the histogram.\n",
    "\n",
    "Comparison between the Biden and Trump's second term shows that males between 31-35 are still the most targeted groups and that this age group skews 5 years younger for arrested women in both cases. The fact that the 287(g) agreement ramping up doesn´t affect age and gender is not surprising, given that most immigrants travel to the US for economic reasons, so men in working age seem to follow the same pattern as before. "
   ]
  },
  {
   "cell_type": "code",
   "execution_count": null,
   "id": "1c894c39",
   "metadata": {},
   "outputs": [
    {
     "data": {
      "application/vnd.plotly.v1+json": {
       "config": {
        "plotlyServerURL": "https://plot.ly"
       },
       "data": [
        {
         "domain": {
          "x": [
           0,
           0.45
          ],
          "y": [
           0,
           1
          ]
         },
         "link": {
          "label": [
           "Female → MEXICO: 3847 (2.8%)",
           "Female → GUATEMALA: 1760 (1.3%)",
           "Female → HONDURAS: 1889 (1.4%)",
           "Female → NICARAGUA: 3270 (2.4%)",
           "Female → VENEZUELA: 1561 (1.1%)",
           "Female → EL SALVADOR: 851 (0.6%)",
           "Female → COLOMBIA: 1975 (1.4%)",
           "Female → ECUADOR: 2415 (1.8%)",
           "Female → CUBA: 852 (0.6%)",
           "Female → DOMINICAN REPUBLIC: 542 (0.4%)",
           "Male → MEXICO: 54268 (39.8%)",
           "Male → GUATEMALA: 15116 (11.1%)",
           "Male → HONDURAS: 14773 (10.8%)",
           "Male → NICARAGUA: 7594 (5.6%)",
           "Male → VENEZUELA: 5672 (4.2%)",
           "Male → EL SALVADOR: 5786 (4.2%)",
           "Male → COLOMBIA: 4401 (3.2%)",
           "Male → ECUADOR: 3946 (2.9%)",
           "Male → CUBA: 2491 (1.8%)",
           "Male → DOMINICAN REPUBLIC: 2675 (2.0%)",
           "Unknown → MEXICO: 257 (0.2%)",
           "Unknown → GUATEMALA: 108 (0.1%)",
           "Unknown → HONDURAS: 68 (0.0%)",
           "Unknown → NICARAGUA: 10 (0.0%)",
           "Unknown → VENEZUELA: 20 (0.0%)",
           "Unknown → EL SALVADOR: 32 (0.0%)",
           "Unknown → COLOMBIA: 18 (0.0%)",
           "Unknown → ECUADOR: 15 (0.0%)",
           "Unknown → CUBA: 26 (0.0%)",
           "Unknown → DOMINICAN REPUBLIC: 10 (0.0%)"
          ],
          "source": [
           0,
           0,
           0,
           0,
           0,
           0,
           0,
           0,
           0,
           0,
           1,
           1,
           1,
           1,
           1,
           1,
           1,
           1,
           1,
           1,
           2,
           2,
           2,
           2,
           2,
           2,
           2,
           2,
           2,
           2
          ],
          "target": [
           3,
           4,
           5,
           6,
           7,
           8,
           9,
           10,
           11,
           12,
           3,
           4,
           5,
           6,
           7,
           8,
           9,
           10,
           11,
           12,
           3,
           4,
           5,
           6,
           7,
           8,
           9,
           10,
           11,
           12
          ],
          "value": [
           3847,
           1760,
           1889,
           3270,
           1561,
           851,
           1975,
           2415,
           852,
           542,
           54268,
           15116,
           14773,
           7594,
           5672,
           5786,
           4401,
           3946,
           2491,
           2675,
           257,
           108,
           68,
           10,
           20,
           32,
           18,
           15,
           26,
           10
          ]
         },
         "node": {
          "color": [
           "#4F81BD",
           "#4F81BD",
           "#4F81BD",
           "#C0504D",
           "#C0504D",
           "#C0504D",
           "#C0504D",
           "#C0504D",
           "#C0504D",
           "#C0504D",
           "#C0504D",
           "#C0504D",
           "#C0504D"
          ],
          "label": [
           "Female",
           "Male",
           "Unknown",
           "MEXICO",
           "GUATEMALA",
           "HONDURAS",
           "NICARAGUA",
           "VENEZUELA",
           "EL SALVADOR",
           "COLOMBIA",
           "ECUADOR",
           "CUBA",
           "DOMINICAN REPUBLIC"
          ],
          "line": {
           "color": "black",
           "width": 0.5
          },
          "pad": 15,
          "thickness": 20
         },
         "type": "sankey"
        },
        {
         "domain": {
          "x": [
           0.55,
           1
          ],
          "y": [
           0,
           1
          ]
         },
         "link": {
          "label": [
           "Female → MEXICO: 2780 (2.8%)",
           "Female → GUATEMALA: 1261 (1.3%)",
           "Female → HONDURAS: 1502 (1.5%)",
           "Female → VENEZUELA: 1148 (1.2%)",
           "Female → EL SALVADOR: 707 (0.7%)",
           "Female → NICARAGUA: 622 (0.6%)",
           "Female → COLOMBIA: 798 (0.8%)",
           "Female → ECUADOR: 379 (0.4%)",
           "Female → CUBA: 405 (0.4%)",
           "Female → DOMINICAN REPUBLIC: 156 (0.2%)",
           "Male → MEXICO: 37882 (38.8%)",
           "Male → GUATEMALA: 14247 (14.6%)",
           "Male → HONDURAS: 11292 (11.6%)",
           "Male → VENEZUELA: 6805 (7.0%)",
           "Male → EL SALVADOR: 4635 (4.7%)",
           "Male → NICARAGUA: 3167 (3.2%)",
           "Male → COLOMBIA: 2717 (2.8%)",
           "Male → ECUADOR: 2558 (2.6%)",
           "Male → CUBA: 2383 (2.4%)",
           "Male → DOMINICAN REPUBLIC: 1668 (1.7%)",
           "Unknown → MEXICO: 171 (0.2%)",
           "Unknown → GUATEMALA: 66 (0.1%)",
           "Unknown → HONDURAS: 56 (0.1%)",
           "Unknown → VENEZUELA: 27 (0.0%)",
           "Unknown → EL SALVADOR: 17 (0.0%)",
           "Unknown → NICARAGUA: 21 (0.0%)",
           "Unknown → COLOMBIA: 33 (0.0%)",
           "Unknown → ECUADOR: 25 (0.0%)",
           "Unknown → CUBA: 47 (0.0%)",
           "Unknown → DOMINICAN REPUBLIC: 10 (0.0%)"
          ],
          "source": [
           0,
           0,
           0,
           0,
           0,
           0,
           0,
           0,
           0,
           0,
           1,
           1,
           1,
           1,
           1,
           1,
           1,
           1,
           1,
           1,
           2,
           2,
           2,
           2,
           2,
           2,
           2,
           2,
           2,
           2
          ],
          "target": [
           3,
           4,
           5,
           6,
           7,
           8,
           9,
           10,
           11,
           12,
           3,
           4,
           5,
           6,
           7,
           8,
           9,
           10,
           11,
           12,
           3,
           4,
           5,
           6,
           7,
           8,
           9,
           10,
           11,
           12
          ],
          "value": [
           2780,
           1261,
           1502,
           1148,
           707,
           622,
           798,
           379,
           405,
           156,
           37882,
           14247,
           11292,
           6805,
           4635,
           3167,
           2717,
           2558,
           2383,
           1668,
           171,
           66,
           56,
           27,
           17,
           21,
           33,
           25,
           47,
           10
          ]
         },
         "node": {
          "color": [
           "#4F81BD",
           "#4F81BD",
           "#4F81BD",
           "#C0504D",
           "#C0504D",
           "#C0504D",
           "#C0504D",
           "#C0504D",
           "#C0504D",
           "#C0504D",
           "#C0504D",
           "#C0504D",
           "#C0504D"
          ],
          "label": [
           "Female",
           "Male",
           "Unknown",
           "MEXICO",
           "GUATEMALA",
           "HONDURAS",
           "VENEZUELA",
           "EL SALVADOR",
           "NICARAGUA",
           "COLOMBIA",
           "ECUADOR",
           "CUBA",
           "DOMINICAN REPUBLIC"
          ],
          "line": {
           "color": "black",
           "width": 0.5
          },
          "pad": 15,
          "thickness": 20
         },
         "type": "sankey"
        }
       ],
       "layout": {
        "annotations": [
         {
          "font": {
           "size": 16
          },
          "showarrow": false,
          "text": "Biden Term",
          "x": 0.225,
          "xanchor": "center",
          "xref": "paper",
          "y": 1,
          "yanchor": "bottom",
          "yref": "paper"
         },
         {
          "font": {
           "size": 16
          },
          "showarrow": false,
          "text": "Trump 2nd Term",
          "x": 0.775,
          "xanchor": "center",
          "xref": "paper",
          "y": 1,
          "yanchor": "bottom",
          "yref": "paper"
         }
        ],
        "font": {
         "size": 12
        },
        "height": 600,
        "template": {
         "data": {
          "bar": [
           {
            "error_x": {
             "color": "#2a3f5f"
            },
            "error_y": {
             "color": "#2a3f5f"
            },
            "marker": {
             "line": {
              "color": "#E5ECF6",
              "width": 0.5
             },
             "pattern": {
              "fillmode": "overlay",
              "size": 10,
              "solidity": 0.2
             }
            },
            "type": "bar"
           }
          ],
          "barpolar": [
           {
            "marker": {
             "line": {
              "color": "#E5ECF6",
              "width": 0.5
             },
             "pattern": {
              "fillmode": "overlay",
              "size": 10,
              "solidity": 0.2
             }
            },
            "type": "barpolar"
           }
          ],
          "carpet": [
           {
            "aaxis": {
             "endlinecolor": "#2a3f5f",
             "gridcolor": "white",
             "linecolor": "white",
             "minorgridcolor": "white",
             "startlinecolor": "#2a3f5f"
            },
            "baxis": {
             "endlinecolor": "#2a3f5f",
             "gridcolor": "white",
             "linecolor": "white",
             "minorgridcolor": "white",
             "startlinecolor": "#2a3f5f"
            },
            "type": "carpet"
           }
          ],
          "choropleth": [
           {
            "colorbar": {
             "outlinewidth": 0,
             "ticks": ""
            },
            "type": "choropleth"
           }
          ],
          "contour": [
           {
            "colorbar": {
             "outlinewidth": 0,
             "ticks": ""
            },
            "colorscale": [
             [
              0,
              "#0d0887"
             ],
             [
              0.1111111111111111,
              "#46039f"
             ],
             [
              0.2222222222222222,
              "#7201a8"
             ],
             [
              0.3333333333333333,
              "#9c179e"
             ],
             [
              0.4444444444444444,
              "#bd3786"
             ],
             [
              0.5555555555555556,
              "#d8576b"
             ],
             [
              0.6666666666666666,
              "#ed7953"
             ],
             [
              0.7777777777777778,
              "#fb9f3a"
             ],
             [
              0.8888888888888888,
              "#fdca26"
             ],
             [
              1,
              "#f0f921"
             ]
            ],
            "type": "contour"
           }
          ],
          "contourcarpet": [
           {
            "colorbar": {
             "outlinewidth": 0,
             "ticks": ""
            },
            "type": "contourcarpet"
           }
          ],
          "heatmap": [
           {
            "colorbar": {
             "outlinewidth": 0,
             "ticks": ""
            },
            "colorscale": [
             [
              0,
              "#0d0887"
             ],
             [
              0.1111111111111111,
              "#46039f"
             ],
             [
              0.2222222222222222,
              "#7201a8"
             ],
             [
              0.3333333333333333,
              "#9c179e"
             ],
             [
              0.4444444444444444,
              "#bd3786"
             ],
             [
              0.5555555555555556,
              "#d8576b"
             ],
             [
              0.6666666666666666,
              "#ed7953"
             ],
             [
              0.7777777777777778,
              "#fb9f3a"
             ],
             [
              0.8888888888888888,
              "#fdca26"
             ],
             [
              1,
              "#f0f921"
             ]
            ],
            "type": "heatmap"
           }
          ],
          "histogram": [
           {
            "marker": {
             "pattern": {
              "fillmode": "overlay",
              "size": 10,
              "solidity": 0.2
             }
            },
            "type": "histogram"
           }
          ],
          "histogram2d": [
           {
            "colorbar": {
             "outlinewidth": 0,
             "ticks": ""
            },
            "colorscale": [
             [
              0,
              "#0d0887"
             ],
             [
              0.1111111111111111,
              "#46039f"
             ],
             [
              0.2222222222222222,
              "#7201a8"
             ],
             [
              0.3333333333333333,
              "#9c179e"
             ],
             [
              0.4444444444444444,
              "#bd3786"
             ],
             [
              0.5555555555555556,
              "#d8576b"
             ],
             [
              0.6666666666666666,
              "#ed7953"
             ],
             [
              0.7777777777777778,
              "#fb9f3a"
             ],
             [
              0.8888888888888888,
              "#fdca26"
             ],
             [
              1,
              "#f0f921"
             ]
            ],
            "type": "histogram2d"
           }
          ],
          "histogram2dcontour": [
           {
            "colorbar": {
             "outlinewidth": 0,
             "ticks": ""
            },
            "colorscale": [
             [
              0,
              "#0d0887"
             ],
             [
              0.1111111111111111,
              "#46039f"
             ],
             [
              0.2222222222222222,
              "#7201a8"
             ],
             [
              0.3333333333333333,
              "#9c179e"
             ],
             [
              0.4444444444444444,
              "#bd3786"
             ],
             [
              0.5555555555555556,
              "#d8576b"
             ],
             [
              0.6666666666666666,
              "#ed7953"
             ],
             [
              0.7777777777777778,
              "#fb9f3a"
             ],
             [
              0.8888888888888888,
              "#fdca26"
             ],
             [
              1,
              "#f0f921"
             ]
            ],
            "type": "histogram2dcontour"
           }
          ],
          "mesh3d": [
           {
            "colorbar": {
             "outlinewidth": 0,
             "ticks": ""
            },
            "type": "mesh3d"
           }
          ],
          "parcoords": [
           {
            "line": {
             "colorbar": {
              "outlinewidth": 0,
              "ticks": ""
             }
            },
            "type": "parcoords"
           }
          ],
          "pie": [
           {
            "automargin": true,
            "type": "pie"
           }
          ],
          "scatter": [
           {
            "fillpattern": {
             "fillmode": "overlay",
             "size": 10,
             "solidity": 0.2
            },
            "type": "scatter"
           }
          ],
          "scatter3d": [
           {
            "line": {
             "colorbar": {
              "outlinewidth": 0,
              "ticks": ""
             }
            },
            "marker": {
             "colorbar": {
              "outlinewidth": 0,
              "ticks": ""
             }
            },
            "type": "scatter3d"
           }
          ],
          "scattercarpet": [
           {
            "marker": {
             "colorbar": {
              "outlinewidth": 0,
              "ticks": ""
             }
            },
            "type": "scattercarpet"
           }
          ],
          "scattergeo": [
           {
            "marker": {
             "colorbar": {
              "outlinewidth": 0,
              "ticks": ""
             }
            },
            "type": "scattergeo"
           }
          ],
          "scattergl": [
           {
            "marker": {
             "colorbar": {
              "outlinewidth": 0,
              "ticks": ""
             }
            },
            "type": "scattergl"
           }
          ],
          "scattermap": [
           {
            "marker": {
             "colorbar": {
              "outlinewidth": 0,
              "ticks": ""
             }
            },
            "type": "scattermap"
           }
          ],
          "scattermapbox": [
           {
            "marker": {
             "colorbar": {
              "outlinewidth": 0,
              "ticks": ""
             }
            },
            "type": "scattermapbox"
           }
          ],
          "scatterpolar": [
           {
            "marker": {
             "colorbar": {
              "outlinewidth": 0,
              "ticks": ""
             }
            },
            "type": "scatterpolar"
           }
          ],
          "scatterpolargl": [
           {
            "marker": {
             "colorbar": {
              "outlinewidth": 0,
              "ticks": ""
             }
            },
            "type": "scatterpolargl"
           }
          ],
          "scatterternary": [
           {
            "marker": {
             "colorbar": {
              "outlinewidth": 0,
              "ticks": ""
             }
            },
            "type": "scatterternary"
           }
          ],
          "surface": [
           {
            "colorbar": {
             "outlinewidth": 0,
             "ticks": ""
            },
            "colorscale": [
             [
              0,
              "#0d0887"
             ],
             [
              0.1111111111111111,
              "#46039f"
             ],
             [
              0.2222222222222222,
              "#7201a8"
             ],
             [
              0.3333333333333333,
              "#9c179e"
             ],
             [
              0.4444444444444444,
              "#bd3786"
             ],
             [
              0.5555555555555556,
              "#d8576b"
             ],
             [
              0.6666666666666666,
              "#ed7953"
             ],
             [
              0.7777777777777778,
              "#fb9f3a"
             ],
             [
              0.8888888888888888,
              "#fdca26"
             ],
             [
              1,
              "#f0f921"
             ]
            ],
            "type": "surface"
           }
          ],
          "table": [
           {
            "cells": {
             "fill": {
              "color": "#EBF0F8"
             },
             "line": {
              "color": "white"
             }
            },
            "header": {
             "fill": {
              "color": "#C8D4E3"
             },
             "line": {
              "color": "white"
             }
            },
            "type": "table"
           }
          ]
         },
         "layout": {
          "annotationdefaults": {
           "arrowcolor": "#2a3f5f",
           "arrowhead": 0,
           "arrowwidth": 1
          },
          "autotypenumbers": "strict",
          "coloraxis": {
           "colorbar": {
            "outlinewidth": 0,
            "ticks": ""
           }
          },
          "colorscale": {
           "diverging": [
            [
             0,
             "#8e0152"
            ],
            [
             0.1,
             "#c51b7d"
            ],
            [
             0.2,
             "#de77ae"
            ],
            [
             0.3,
             "#f1b6da"
            ],
            [
             0.4,
             "#fde0ef"
            ],
            [
             0.5,
             "#f7f7f7"
            ],
            [
             0.6,
             "#e6f5d0"
            ],
            [
             0.7,
             "#b8e186"
            ],
            [
             0.8,
             "#7fbc41"
            ],
            [
             0.9,
             "#4d9221"
            ],
            [
             1,
             "#276419"
            ]
           ],
           "sequential": [
            [
             0,
             "#0d0887"
            ],
            [
             0.1111111111111111,
             "#46039f"
            ],
            [
             0.2222222222222222,
             "#7201a8"
            ],
            [
             0.3333333333333333,
             "#9c179e"
            ],
            [
             0.4444444444444444,
             "#bd3786"
            ],
            [
             0.5555555555555556,
             "#d8576b"
            ],
            [
             0.6666666666666666,
             "#ed7953"
            ],
            [
             0.7777777777777778,
             "#fb9f3a"
            ],
            [
             0.8888888888888888,
             "#fdca26"
            ],
            [
             1,
             "#f0f921"
            ]
           ],
           "sequentialminus": [
            [
             0,
             "#0d0887"
            ],
            [
             0.1111111111111111,
             "#46039f"
            ],
            [
             0.2222222222222222,
             "#7201a8"
            ],
            [
             0.3333333333333333,
             "#9c179e"
            ],
            [
             0.4444444444444444,
             "#bd3786"
            ],
            [
             0.5555555555555556,
             "#d8576b"
            ],
            [
             0.6666666666666666,
             "#ed7953"
            ],
            [
             0.7777777777777778,
             "#fb9f3a"
            ],
            [
             0.8888888888888888,
             "#fdca26"
            ],
            [
             1,
             "#f0f921"
            ]
           ]
          },
          "colorway": [
           "#636efa",
           "#EF553B",
           "#00cc96",
           "#ab63fa",
           "#FFA15A",
           "#19d3f3",
           "#FF6692",
           "#B6E880",
           "#FF97FF",
           "#FECB52"
          ],
          "font": {
           "color": "#2a3f5f"
          },
          "geo": {
           "bgcolor": "white",
           "lakecolor": "white",
           "landcolor": "#E5ECF6",
           "showlakes": true,
           "showland": true,
           "subunitcolor": "white"
          },
          "hoverlabel": {
           "align": "left"
          },
          "hovermode": "closest",
          "mapbox": {
           "style": "light"
          },
          "paper_bgcolor": "white",
          "plot_bgcolor": "#E5ECF6",
          "polar": {
           "angularaxis": {
            "gridcolor": "white",
            "linecolor": "white",
            "ticks": ""
           },
           "bgcolor": "#E5ECF6",
           "radialaxis": {
            "gridcolor": "white",
            "linecolor": "white",
            "ticks": ""
           }
          },
          "scene": {
           "xaxis": {
            "backgroundcolor": "#E5ECF6",
            "gridcolor": "white",
            "gridwidth": 2,
            "linecolor": "white",
            "showbackground": true,
            "ticks": "",
            "zerolinecolor": "white"
           },
           "yaxis": {
            "backgroundcolor": "#E5ECF6",
            "gridcolor": "white",
            "gridwidth": 2,
            "linecolor": "white",
            "showbackground": true,
            "ticks": "",
            "zerolinecolor": "white"
           },
           "zaxis": {
            "backgroundcolor": "#E5ECF6",
            "gridcolor": "white",
            "gridwidth": 2,
            "linecolor": "white",
            "showbackground": true,
            "ticks": "",
            "zerolinecolor": "white"
           }
          },
          "shapedefaults": {
           "line": {
            "color": "#2a3f5f"
           }
          },
          "ternary": {
           "aaxis": {
            "gridcolor": "white",
            "linecolor": "white",
            "ticks": ""
           },
           "baxis": {
            "gridcolor": "white",
            "linecolor": "white",
            "ticks": ""
           },
           "bgcolor": "#E5ECF6",
           "caxis": {
            "gridcolor": "white",
            "linecolor": "white",
            "ticks": ""
           }
          },
          "title": {
           "x": 0.05
          },
          "xaxis": {
           "automargin": true,
           "gridcolor": "white",
           "linecolor": "white",
           "ticks": "",
           "title": {
            "standoff": 15
           },
           "zerolinecolor": "white",
           "zerolinewidth": 2
          },
          "yaxis": {
           "automargin": true,
           "gridcolor": "white",
           "linecolor": "white",
           "ticks": "",
           "title": {
            "standoff": 15
           },
           "zerolinecolor": "white",
           "zerolinewidth": 2
          }
         }
        },
        "title": {
         "text": "Sankey Diagrams: Gender and Citizenship Country (Top 10 Countries) - Biden vs Trump 2nd Term"
        },
        "width": 1200
       }
      }
     },
     "metadata": {},
     "output_type": "display_data"
    }
   ],
   "source": [
    "import plotly.graph_objects as go\n",
    "\n",
    "def sankey_data(df, top_n=10):\n",
    "    pivot_counts = pd.pivot_table(\n",
    "        df,\n",
    "        index=\"Citizenship Country\",\n",
    "        columns=\"Gender\",\n",
    "        values=\"Unique Identifier\",\n",
    "        aggfunc=\"count\",\n",
    "        fill_value=0\n",
    "    )\n",
    "    pivot_counts_top = pivot_counts.loc[pivot_counts.sum(axis=1).sort_values(ascending=False).head(top_n).index]\n",
    "    genders = list(pivot_counts_top.columns)\n",
    "    countries = list(pivot_counts_top.index)\n",
    "    labels = genders + countries\n",
    "    source, target, value = [], [], []\n",
    "    for i, gender in enumerate(genders):\n",
    "        for j, country in enumerate(countries):\n",
    "            count = pivot_counts_top.loc[country, gender]\n",
    "            if count > 0:\n",
    "                source.append(i)\n",
    "                target.append(len(genders) + j)\n",
    "                value.append(count)\n",
    "    return labels, source, target, value, genders, countries\n",
    "\n",
    "# Prepare Sankey data for both terms\n",
    "labels_biden, source_biden, target_biden, value_biden, genders_biden, countries_biden = sankey_data(biden_term)\n",
    "labels_trump2, source_trump2, target_trump2, value_trump2, genders_trump2, countries_trump2 = sankey_data(trump_second_term)\n",
    "\n",
    "# Create subplots for two Sankey diagrams\n",
    "from plotly.subplots import make_subplots\n",
    "\n",
    "fig = make_subplots(rows=1, cols=2, specs=[[{'type': 'sankey'}, {'type': 'sankey'}]],\n",
    "                    subplot_titles=[\"Biden Term\", \"Trump 2nd Term\"])\n",
    "\n",
    "# Biden Sankey\n",
    "fig.add_trace(go.Sankey(\n",
    "    node=dict(\n",
    "        pad=15,\n",
    "        thickness=20,\n",
    "        line=dict(color=\"black\", width=0.5),\n",
    "        label=labels_biden,\n",
    "        color=[\"#4F81BD\"]*len(genders_biden) + [\"#C0504D\"]*len(countries_biden)\n",
    "    ),\n",
    "    link=dict(\n",
    "        source=source_biden,\n",
    "        target=target_biden,\n",
    "        value=value_biden,\n",
    "        label=[f\"{labels_biden[s]} → {labels_biden[t]}: {v} ({v / sum(value_biden) * 100:.1f}%)\" for s, t, v in zip(source_biden, target_biden, value_biden)]\n",
    "    )\n",
    "), row=1, col=1)\n",
    "\n",
    "# Trump 2nd Term Sankey\n",
    "fig.add_trace(go.Sankey(\n",
    "    node=dict(\n",
    "        pad=15,\n",
    "        thickness=20,\n",
    "        line=dict(color=\"black\", width=0.5),\n",
    "        label=labels_trump2,\n",
    "        color=[\"#4F81BD\"]*len(genders_trump2) + [\"#C0504D\"]*len(countries_trump2)\n",
    "    ),\n",
    "    link=dict(\n",
    "        source=source_trump2,\n",
    "        target=target_trump2,\n",
    "        value=value_trump2,\n",
    "        label=[f\"{labels_trump2[s]} → {labels_trump2[t]}: {v} ({v / sum(value_trump2) * 100:.1f}%)\" for s, t, v in zip(source_trump2, target_trump2, value_trump2)]\n",
    "    )\n",
    "), row=1, col=2)\n",
    "\n",
    "fig.update_layout(\n",
    "    title_text=\"Sankey Diagrams: Gender and Citizenship Country (Top 10 Countries) - Biden vs Trump 2nd Term\",\n",
    "    font_size=12,\n",
    "    height=600,\n",
    "    width=1200\n",
    ")\n",
    "fig.write_image(\"outputs/figures/sankey_gender_citizenship_biden_trump2.png\")\n",
    "# Embed PNG in notebook\n",
    "display(Image(filename=\"outputs/figures/sankey_gender_citizenship_biden_trump2.png\"))"
   ]
  },
  {
   "cell_type": "markdown",
   "id": "f05b69c9",
   "metadata": {},
   "source": [
    "Overall, nationals from Mexico and countries from Central America (Guatemala, Honduras and El Salvador) account for the majority of the citizenship nationalities. \n",
    "\n",
    "Nonetheless, in only half of the first year of his second term, Trump administration has arrested more than half of all Mexican women arrested during Biden's presidency, and almost as much of male Salvadoreans, \n",
    "\n",
    "Question 1 raised from this exploratory analysis:\n",
    "\n",
    "Why are Mexican women arrests ramping up relative to time in the US? Can it be linked to the apprehension by local enforcement agencies in communities, and hence linked to the 287(g) program?\n",
    "\n",
    "Question 2 raised from this analysis\n",
    "\n",
    "Is the ramping up of arrests of Salvadorean men linked to the actions of local enforcement agencies?\n",
    "\n",
    "These two questions can be partially answered by comparing nationalities to methods of apprehension."
   ]
  },
  {
   "cell_type": "markdown",
   "id": "b6c5f108",
   "metadata": {},
   "source": [
    "Then I create pivot tables and plot the comparison between the last two terms from the Country Citizenship and Area of Responsibility variables."
   ]
  },
  {
   "cell_type": "code",
   "execution_count": null,
   "id": "7e0089a6",
   "metadata": {},
   "outputs": [],
   "source": [
    "# Create and save pivot tables (absolute only) for Citizenship Country x Apprehension AOR\n",
    "def save_country_aor_pivot_absolute(df, term_name):\n",
    "    pivot_counts = pd.pivot_table(\n",
    "        df,\n",
    "        index=\"Citizenship Country\",\n",
    "        columns=\"Apprehension AOR\",\n",
    "        values=\"Unique Identifier\",\n",
    "        aggfunc=\"count\",\n",
    "        fill_value=0\n",
    "    )\n",
    "    pivot_counts.to_csv(f\"outputs/tables/{term_name}_country_aor_counts.csv\")\n",
    "    display(pivot_counts)\n",
    "    return pivot_counts\n",
    "\n",
    "# Generate and display/save for both terms (absolute only)\n",
    "pivot_biden_counts = save_country_aor_pivot_absolute(biden_term, \"biden_term\")\n",
    "pivot_trump2_counts = save_country_aor_pivot_absolute(trump_second_term, \"trump_second_term\")\n",
    "\n",
    "# Sankey diagram for both terms (absolute only, top 5 countries for clarity)\n",
    "import plotly.graph_objects as go\n",
    "from plotly.subplots import make_subplots\n",
    "\n",
    "def sankey_country_aor_absolute(pivot_counts, top_n=5):\n",
    "    top_countries = pivot_counts.sum(axis=1).sort_values(ascending=False).head(top_n).index.tolist()\n",
    "    aors = list(pivot_counts.columns)\n",
    "    countries = top_countries\n",
    "    labels = countries + aors\n",
    "\n",
    "    source_abs, target_abs, value_abs, label_abs = [], [], [], []\n",
    "    for i, country in enumerate(countries):\n",
    "        for j, aor in enumerate(aors):\n",
    "            count = pivot_counts.loc[country, aor]\n",
    "            if count > 0:\n",
    "                source_abs.append(i)\n",
    "                target_abs.append(len(countries) + j)\n",
    "                value_abs.append(count)\n",
    "                label_abs.append(f\"{country} → {aor}: {count}\")\n",
    "    return labels, source_abs, target_abs, value_abs, label_abs\n",
    "\n",
    "# Prepare Sankey data\n",
    "labels_biden, s_abs_b, t_abs_b, v_abs_b, l_abs_b = sankey_country_aor_absolute(pivot_biden_counts, top_n=5)\n",
    "labels_trump2, s_abs_t, t_abs_t, v_abs_t, l_abs_t = sankey_country_aor_absolute(pivot_trump2_counts, top_n=5)\n",
    "\n",
    "# Create subplots: 1x2 (Biden/Trump2, absolute only)\n",
    "fig = make_subplots(\n",
    "    rows=1, cols=2,\n",
    "    specs=[[{'type': 'sankey'}, {'type': 'sankey'}]],\n",
    "    subplot_titles=[\n",
    "        \"Biden Term (Absolute)\", \"Trump 2nd Term (Absolute)\"\n",
    "    ]\n",
    ")\n",
    "\n",
    "# Biden Absolute\n",
    "fig.add_trace(go.Sankey(\n",
    "    node=dict(\n",
    "        pad=15,\n",
    "        thickness=20,\n",
    "        line=dict(color=\"black\", width=0.5),\n",
    "        label=labels_biden,\n",
    "        color=[\"#4F81BD\"]*10 + [\"#C0504D\"]*len(pivot_biden_counts.columns)\n",
    "    ),\n",
    "    link=dict(\n",
    "        source=s_abs_b,\n",
    "        target=t_abs_b,\n",
    "        value=v_abs_b,\n",
    "        label=l_abs_b\n",
    "    )\n",
    "), row=1, col=1)\n",
    "\n",
    "# Trump 2nd Term Absolute\n",
    "fig.add_trace(go.Sankey(\n",
    "    node=dict(\n",
    "        pad=15,\n",
    "        thickness=20,\n",
    "        line=dict(color=\"black\", width=0.5),\n",
    "        label=labels_trump2,\n",
    "        color=[\"#4F81BD\"]*10 + [\"#C0504D\"]*len(pivot_trump2_counts.columns)\n",
    "    ),\n",
    "    link=dict(\n",
    "        source=s_abs_t,\n",
    "        target=t_abs_t,\n",
    "        value=v_abs_t,\n",
    "        label=l_abs_t\n",
    "    )\n",
    "), row=1, col=2)\n",
    "\n",
    "fig.update_layout(\n",
    "    title_text=\"Sankey Diagrams: Citizenship Country to Apprehension AOR (Top 5 Countries) - Biden vs Trump 2nd Term (Absolute Only)\",\n",
    "    font_size=12,\n",
    "    height=600,\n",
    "    width=1600\n",
    ")\n",
    "fig.write_image(\"outputs/figures/sankey_country_aor_biden_trump2_absolute.png\")\n",
    "fig.show()"
   ]
  },
  {
   "cell_type": "code",
   "execution_count": null,
   "id": "896c6043",
   "metadata": {},
   "outputs": [
    {
     "data": {
      "application/vnd.microsoft.datawrangler.viewer.v0+json": {
       "columns": [
        {
         "name": "index",
         "rawType": "int64",
         "type": "integer"
        },
        {
         "name": "Citizenship Country",
         "rawType": "object",
         "type": "string"
        },
        {
         "name": "Apprehension AOR",
         "rawType": "object",
         "type": "string"
        },
        {
         "name": "n_arrests",
         "rawType": "int64",
         "type": "integer"
        }
       ],
       "ref": "629b3386-a693-4677-8f58-02c5215af51b",
       "rows": [
        [
         "0",
         "AFGHANISTAN",
         "Atlanta Area of Responsibility",
         "3"
        ],
        [
         "1",
         "AFGHANISTAN",
         "Boston Area of Responsibility",
         "1"
        ],
        [
         "2",
         "AFGHANISTAN",
         "Buffalo Area of Responsibility",
         "8"
        ],
        [
         "3",
         "AFGHANISTAN",
         "Chicago Area of Responsibility",
         "5"
        ],
        [
         "4",
         "AFGHANISTAN",
         "Dallas Area of Responsibility",
         "5"
        ]
       ],
       "shape": {
        "columns": 3,
        "rows": 5
       }
      },
      "text/html": [
       "<div>\n",
       "<style scoped>\n",
       "    .dataframe tbody tr th:only-of-type {\n",
       "        vertical-align: middle;\n",
       "    }\n",
       "\n",
       "    .dataframe tbody tr th {\n",
       "        vertical-align: top;\n",
       "    }\n",
       "\n",
       "    .dataframe thead th {\n",
       "        text-align: right;\n",
       "    }\n",
       "</style>\n",
       "<table border=\"1\" class=\"dataframe\">\n",
       "  <thead>\n",
       "    <tr style=\"text-align: right;\">\n",
       "      <th></th>\n",
       "      <th>Citizenship Country</th>\n",
       "      <th>Apprehension AOR</th>\n",
       "      <th>n_arrests</th>\n",
       "    </tr>\n",
       "  </thead>\n",
       "  <tbody>\n",
       "    <tr>\n",
       "      <th>0</th>\n",
       "      <td>AFGHANISTAN</td>\n",
       "      <td>Atlanta Area of Responsibility</td>\n",
       "      <td>3</td>\n",
       "    </tr>\n",
       "    <tr>\n",
       "      <th>1</th>\n",
       "      <td>AFGHANISTAN</td>\n",
       "      <td>Boston Area of Responsibility</td>\n",
       "      <td>1</td>\n",
       "    </tr>\n",
       "    <tr>\n",
       "      <th>2</th>\n",
       "      <td>AFGHANISTAN</td>\n",
       "      <td>Buffalo Area of Responsibility</td>\n",
       "      <td>8</td>\n",
       "    </tr>\n",
       "    <tr>\n",
       "      <th>3</th>\n",
       "      <td>AFGHANISTAN</td>\n",
       "      <td>Chicago Area of Responsibility</td>\n",
       "      <td>5</td>\n",
       "    </tr>\n",
       "    <tr>\n",
       "      <th>4</th>\n",
       "      <td>AFGHANISTAN</td>\n",
       "      <td>Dallas Area of Responsibility</td>\n",
       "      <td>5</td>\n",
       "    </tr>\n",
       "  </tbody>\n",
       "</table>\n",
       "</div>"
      ],
      "text/plain": [
       "  Citizenship Country                Apprehension AOR  n_arrests\n",
       "0         AFGHANISTAN  Atlanta Area of Responsibility          3\n",
       "1         AFGHANISTAN   Boston Area of Responsibility          1\n",
       "2         AFGHANISTAN  Buffalo Area of Responsibility          8\n",
       "3         AFGHANISTAN  Chicago Area of Responsibility          5\n",
       "4         AFGHANISTAN   Dallas Area of Responsibility          5"
      ]
     },
     "metadata": {},
     "output_type": "display_data"
    },
    {
     "data": {
      "application/vnd.microsoft.datawrangler.viewer.v0+json": {
       "columns": [
        {
         "name": "index",
         "rawType": "int64",
         "type": "integer"
        },
        {
         "name": "Citizenship Country",
         "rawType": "object",
         "type": "string"
        },
        {
         "name": "Apprehension AOR",
         "rawType": "object",
         "type": "string"
        },
        {
         "name": "n_arrests",
         "rawType": "int64",
         "type": "integer"
        }
       ],
       "ref": "7c09a25c-09bd-4fa6-b561-e7da4fcdae4e",
       "rows": [
        [
         "0",
         "AFGHANISTAN",
         "Atlanta Area of Responsibility",
         "1"
        ],
        [
         "1",
         "AFGHANISTAN",
         "Boston Area of Responsibility",
         "3"
        ],
        [
         "2",
         "AFGHANISTAN",
         "Buffalo Area of Responsibility",
         "1"
        ],
        [
         "3",
         "AFGHANISTAN",
         "Chicago Area of Responsibility",
         "1"
        ],
        [
         "4",
         "AFGHANISTAN",
         "Dallas Area of Responsibility",
         "9"
        ]
       ],
       "shape": {
        "columns": 3,
        "rows": 5
       }
      },
      "text/html": [
       "<div>\n",
       "<style scoped>\n",
       "    .dataframe tbody tr th:only-of-type {\n",
       "        vertical-align: middle;\n",
       "    }\n",
       "\n",
       "    .dataframe tbody tr th {\n",
       "        vertical-align: top;\n",
       "    }\n",
       "\n",
       "    .dataframe thead th {\n",
       "        text-align: right;\n",
       "    }\n",
       "</style>\n",
       "<table border=\"1\" class=\"dataframe\">\n",
       "  <thead>\n",
       "    <tr style=\"text-align: right;\">\n",
       "      <th></th>\n",
       "      <th>Citizenship Country</th>\n",
       "      <th>Apprehension AOR</th>\n",
       "      <th>n_arrests</th>\n",
       "    </tr>\n",
       "  </thead>\n",
       "  <tbody>\n",
       "    <tr>\n",
       "      <th>0</th>\n",
       "      <td>AFGHANISTAN</td>\n",
       "      <td>Atlanta Area of Responsibility</td>\n",
       "      <td>1</td>\n",
       "    </tr>\n",
       "    <tr>\n",
       "      <th>1</th>\n",
       "      <td>AFGHANISTAN</td>\n",
       "      <td>Boston Area of Responsibility</td>\n",
       "      <td>3</td>\n",
       "    </tr>\n",
       "    <tr>\n",
       "      <th>2</th>\n",
       "      <td>AFGHANISTAN</td>\n",
       "      <td>Buffalo Area of Responsibility</td>\n",
       "      <td>1</td>\n",
       "    </tr>\n",
       "    <tr>\n",
       "      <th>3</th>\n",
       "      <td>AFGHANISTAN</td>\n",
       "      <td>Chicago Area of Responsibility</td>\n",
       "      <td>1</td>\n",
       "    </tr>\n",
       "    <tr>\n",
       "      <th>4</th>\n",
       "      <td>AFGHANISTAN</td>\n",
       "      <td>Dallas Area of Responsibility</td>\n",
       "      <td>9</td>\n",
       "    </tr>\n",
       "  </tbody>\n",
       "</table>\n",
       "</div>"
      ],
      "text/plain": [
       "  Citizenship Country                Apprehension AOR  n_arrests\n",
       "0         AFGHANISTAN  Atlanta Area of Responsibility          1\n",
       "1         AFGHANISTAN   Boston Area of Responsibility          3\n",
       "2         AFGHANISTAN  Buffalo Area of Responsibility          1\n",
       "3         AFGHANISTAN  Chicago Area of Responsibility          1\n",
       "4         AFGHANISTAN   Dallas Area of Responsibility          9"
      ]
     },
     "metadata": {},
     "output_type": "display_data"
    }
   ],
   "source": [
    "# Create tidy (long-format) pivot tables for Citizenship Country x Apprehension AOR and save with tidy names\n",
    "\n",
    "def save_tidy_country_aor(df, term_name):\n",
    "    tidy = (\n",
    "        df.groupby([\"Citizenship Country\", \"Apprehension AOR\"])\n",
    "        .agg(n_arrests=(\"Unique Identifier\", \"count\"))\n",
    "        .reset_index()\n",
    "        .sort_values([\"Citizenship Country\", \"Apprehension AOR\"])\n",
    "    )\n",
    "    tidy.to_csv(f\"outputs/tables/{term_name}_tidy_country_aor.csv\", index=False)\n",
    "    display(tidy.head())\n",
    "    return tidy\n",
    "\n",
    "tidy_biden = save_tidy_country_aor(biden_term, \"biden_term\")\n",
    "tidy_trump2 = save_tidy_country_aor(trump_second_term, \"trump_second_term\")"
   ]
  },
  {
   "cell_type": "markdown",
   "id": "868d61dd",
   "metadata": {},
   "source": [
    "From this analysis we can drill down on the change of demographics of Salvadorean arrests, which substituted Nicaraguan and is the only nationality change in the top 5 countries, although other notorious changes have happened, probably related to the narratives of criminalities we have seen reported. For instance, that Venezuelans already surpassed the number of total Venezuelan arrests of the whole Biden administration and that Mexican arrests represent around 70% of the total mexican arrests that the complete Biden Administration arrested. \n",
    "\n",
    "From the tidy tables we can see that the Dallas, Houston and New Orleans AORs are still the most depredatory towards the most national affected group (Mexican people), which has more to do probably with the number of migrants from different nationalities that migrate to the States, counties and cities that these AORs represent. \n",
    "\n",
    "A more complete analysis with rates of migrant population per AOR must be conducted to determine the actual changes these new policies bring about. \n",
    "\n"
   ]
  },
  {
   "cell_type": "markdown",
   "id": "dfb73450",
   "metadata": {},
   "source": [
    "## Step 2\n",
    "\n",
    "Select one question from Task 3 Steps 2-4 and complete the analysis.\n",
    "--\n",
    "**What other methods of apprehension, in combination with the newly created facility column, can point to the participation of local enforcement agencies in the process of administrative arrests? How do this other methods compare to the previous term?**\n"
   ]
  },
  {
   "cell_type": "markdown",
   "id": "fab179a2",
   "metadata": {},
   "source": [
    "## Apprehension method changes\n"
   ]
  },
  {
   "cell_type": "code",
   "execution_count": null,
   "id": "2a668d15",
   "metadata": {},
   "outputs": [],
   "source": [
    "import plotly.graph_objects as go\n",
    "from plotly.subplots import make_subplots\n",
    "\n",
    "# Create and save pivot tables for Apprehension Method (Biden and Trump 2nd terms)\n",
    "pivot_biden = pd.pivot_table(\n",
    "    biden_term,\n",
    "    index=\"Apprehension Method\",\n",
    "    values=\"Unique Identifier\",\n",
    "    aggfunc=\"count\",\n",
    "    fill_value=0\n",
    ")\n",
    "pivot_biden.to_csv(\"outputs/tables/biden_term_apprehension_method_counts.csv\")\n",
    "\n",
    "pivot_trump2 = pd.pivot_table(\n",
    "    trump_second_term,\n",
    "    index=\"Apprehension Method\",\n",
    "    values=\"Unique Identifier\",\n",
    "    aggfunc=\"count\",\n",
    "    fill_value=0\n",
    ")\n",
    "pivot_trump2.to_csv(\"outputs/tables/trump_second_term_apprehension_method_counts.csv\")\n",
    "\n",
    "# Prepare data for Sankey (Top N methods for clarity)\n",
    "def sankey_data_methods(pivot, label_prefix=\"\"):\n",
    "    methods = list(pivot.index)\n",
    "    values = list(pivot[\"Unique Identifier\"])\n",
    "    # For Sankey, create a dummy source node (0) and connect to each method node (1,2,...)\n",
    "    labels = [label_prefix + \"All Arrests\"] + methods\n",
    "    source = [0] * len(methods)\n",
    "    target = list(range(1, len(methods) + 1))\n",
    "    value = values\n",
    "    return labels, source, target, value\n",
    "\n",
    "labels_biden, source_biden, target_biden, value_biden = sankey_data_methods(pivot_biden, \"Biden: \")\n",
    "labels_trump2, source_trump2, target_trump2, value_trump2 = sankey_data_methods(pivot_trump2, \"Trump2: \")\n",
    "\n",
    "# Create subplots for two Sankey diagrams\n",
    "fig = make_subplots(rows=1, cols=2, specs=[[{'type': 'sankey'}, {'type': 'sankey'}]],\n",
    "                    subplot_titles=[\"Biden Term\", \"Trump 2nd Term\"])\n",
    "\n",
    "# Biden Sankey\n",
    "fig.add_trace(go.Sankey(\n",
    "    node=dict(\n",
    "        pad=15,\n",
    "        thickness=20,\n",
    "        line=dict(color=\"black\", width=0.5),\n",
    "        label=labels_biden,\n",
    "        color=[\"#4F81BD\"] + [\"#C0504D\"]*len(pivot_biden)\n",
    "    ),\n",
    "    link=dict(\n",
    "        source=source_biden,\n",
    "        target=target_biden,\n",
    "        value=value_biden,\n",
    "        label=[f\"{labels_biden[t]}: {v} ({v / sum(value_biden) * 100:.1f}%)\" for t, v in zip(target_biden, value_biden)]\n",
    "    )\n",
    "), row=1, col=1)\n",
    "\n",
    "# Trump 2nd Term Sankey\n",
    "fig.add_trace(go.Sankey(\n",
    "    node=dict(\n",
    "        pad=15,\n",
    "        thickness=20,\n",
    "        line=dict(color=\"black\", width=0.5),\n",
    "        label=labels_trump2,\n",
    "        color=[\"#4F81BD\"] + [\"#C0504D\"]*len(pivot_trump2)\n",
    "    ),\n",
    "    link=dict(\n",
    "        source=source_trump2,\n",
    "        target=target_trump2,\n",
    "        value=value_trump2,\n",
    "        label=[f\"{labels_trump2[t]}: {v} ({v / sum(value_trump2) * 100:.1f}%)\" for t, v in zip(target_trump2, value_trump2)]\n",
    "    )\n",
    "), row=1, col=2)\n",
    "\n",
    "fig.update_layout(\n",
    "    title_text=\"Sankey Diagrams: Apprehension Method Distribution - Biden vs Trump 2nd Term\",\n",
    "    font_size=12,\n",
    "    height=600,\n",
    "    width=1200\n",
    ")\n",
    "fig.write_image(\"outputs/figures/sankey_apprehension_method_biden_trump2.png\")\n",
    "fig.show()"
   ]
  },
  {
   "cell_type": "code",
   "execution_count": null,
   "id": "91285db5",
   "metadata": {},
   "outputs": [
    {
     "data": {
      "application/vnd.plotly.v1+json": {
       "config": {
        "plotlyServerURL": "https://plot.ly"
       },
       "data": [
        {
         "domain": {
          "x": [
           0,
           0.45
          ],
          "y": [
           0,
           1
          ]
         },
         "link": {
          "label": [
           "287(g) Program: 3998 (2.6%)",
           "Anti-Smuggling: 36 (0.0%)",
           "Boat Patrol: 5 (0.0%)",
           "CAP Federal Incarceration: 16720 (10.9%)",
           "CAP Local Incarceration: 65417 (42.8%)",
           "CAP State Incarceration: 7698 (5.0%)",
           "Crewman/Stowaway: 3 (0.0%)",
           "Criminal Alien Program: 2 (0.0%)",
           "ERO Reprocessed Arrest: 8090 (5.3%)",
           "Inspections: 48 (0.0%)",
           "Law Enforcement Agency Response Unit: 263 (0.2%)",
           "Located: 10877 (7.1%)",
           "Non-Custodial Arrest: 29791 (19.5%)",
           "Organized Crime Drug Enforcement Task Force: 40 (0.0%)",
           "Other Agency (turned over to INS): 214 (0.1%)",
           "Other Task Force: 52 (0.0%)",
           "Other efforts: 6144 (4.0%)",
           "Patrol Border: 403 (0.3%)",
           "Patrol Interior: 2 (0.0%)",
           "Probation and Parole: 2868 (1.9%)",
           "Traffic Check: 3 (0.0%)",
           "Transportation Check Aircraft: 5 (0.0%)",
           "Transportation Check Passenger Train: 1 (0.0%)",
           "Worksite Enforcement: 22 (0.0%)"
          ],
          "source": [
           0,
           0,
           0,
           0,
           0,
           0,
           0,
           0,
           0,
           0,
           0,
           0,
           0,
           0,
           0,
           0,
           0,
           0,
           0,
           0,
           0,
           0,
           0,
           0
          ],
          "target": [
           1,
           2,
           3,
           4,
           5,
           6,
           7,
           8,
           9,
           10,
           11,
           12,
           13,
           14,
           15,
           16,
           17,
           18,
           19,
           20,
           21,
           22,
           23,
           24
          ],
          "value": [
           3998,
           36,
           5,
           16720,
           65417,
           7698,
           3,
           2,
           8090,
           48,
           263,
           10877,
           29791,
           40,
           214,
           52,
           6144,
           403,
           2,
           2868,
           3,
           5,
           1,
           22
          ]
         },
         "node": {
          "color": [
           "#4F81BD",
           "#C0504D",
           "#C0504D",
           "#C0504D",
           "#C0504D",
           "#C0504D",
           "#C0504D",
           "#C0504D",
           "#C0504D",
           "#C0504D",
           "#C0504D",
           "#C0504D",
           "#C0504D",
           "#C0504D",
           "#C0504D",
           "#C0504D",
           "#C0504D",
           "#C0504D",
           "#C0504D",
           "#C0504D",
           "#C0504D",
           "#C0504D",
           "#C0504D",
           "#C0504D",
           "#C0504D"
          ],
          "label": [
           "Biden: All Arrests",
           "287(g) Program",
           "Anti-Smuggling",
           "Boat Patrol",
           "CAP Federal Incarceration",
           "CAP Local Incarceration",
           "CAP State Incarceration",
           "Crewman/Stowaway",
           "Criminal Alien Program",
           "ERO Reprocessed Arrest",
           "Inspections",
           "Law Enforcement Agency Response Unit",
           "Located",
           "Non-Custodial Arrest",
           "Organized Crime Drug Enforcement Task Force",
           "Other Agency (turned over to INS)",
           "Other Task Force",
           "Other efforts",
           "Patrol Border",
           "Patrol Interior",
           "Probation and Parole",
           "Traffic Check",
           "Transportation Check Aircraft",
           "Transportation Check Passenger Train",
           "Worksite Enforcement"
          ],
          "line": {
           "color": "black",
           "width": 0.5
          },
          "pad": 15,
          "thickness": 20
         },
         "type": "sankey"
        },
        {
         "domain": {
          "x": [
           0.55,
           1
          ],
          "y": [
           0,
           1
          ]
         },
         "link": {
          "label": [
           "287(g) Program: 2306 (2.1%)",
           "Anti-Smuggling: 45 (0.0%)",
           "Boat Patrol: 7 (0.0%)",
           "CAP Federal Incarceration: 6668 (6.0%)",
           "CAP Local Incarceration: 45664 (41.3%)",
           "CAP State Incarceration: 2717 (2.5%)",
           "Crewman/Stowaway: 2 (0.0%)",
           "Criminal Alien Program: 2 (0.0%)",
           "ERO Reprocessed Arrest: 784 (0.7%)",
           "Inspections: 55 (0.0%)",
           "Law Enforcement Agency Response Unit: 579 (0.5%)",
           "Located: 19792 (17.9%)",
           "Non-Custodial Arrest: 26975 (24.4%)",
           "Organized Crime Drug Enforcement Task Force: 10 (0.0%)",
           "Other Agency (turned over to INS): 225 (0.2%)",
           "Other Task Force: 447 (0.4%)",
           "Other efforts: 2845 (2.6%)",
           "Patrol Border: 68 (0.1%)",
           "Patrol Interior: 49 (0.0%)",
           "Probation and Parole: 962 (0.9%)",
           "Traffic Check: 57 (0.1%)",
           "Transportation Check Aircraft: 8 (0.0%)",
           "Transportation Check Bus: 5 (0.0%)",
           "Transportation Check Passenger Train: 1 (0.0%)",
           "Worksite Enforcement: 228 (0.2%)"
          ],
          "source": [
           0,
           0,
           0,
           0,
           0,
           0,
           0,
           0,
           0,
           0,
           0,
           0,
           0,
           0,
           0,
           0,
           0,
           0,
           0,
           0,
           0,
           0,
           0,
           0,
           0
          ],
          "target": [
           1,
           2,
           3,
           4,
           5,
           6,
           7,
           8,
           9,
           10,
           11,
           12,
           13,
           14,
           15,
           16,
           17,
           18,
           19,
           20,
           21,
           22,
           23,
           24,
           25
          ],
          "value": [
           2306,
           45,
           7,
           6668,
           45664,
           2717,
           2,
           2,
           784,
           55,
           579,
           19792,
           26975,
           10,
           225,
           447,
           2845,
           68,
           49,
           962,
           57,
           8,
           5,
           1,
           228
          ]
         },
         "node": {
          "color": [
           "#4F81BD",
           "#C0504D",
           "#C0504D",
           "#C0504D",
           "#C0504D",
           "#C0504D",
           "#C0504D",
           "#C0504D",
           "#C0504D",
           "#C0504D",
           "#C0504D",
           "#C0504D",
           "#C0504D",
           "#C0504D",
           "#C0504D",
           "#C0504D",
           "#C0504D",
           "#C0504D",
           "#C0504D",
           "#C0504D",
           "#C0504D",
           "#C0504D",
           "#C0504D",
           "#C0504D",
           "#C0504D",
           "#C0504D"
          ],
          "label": [
           "Trump2: All Arrests",
           "287(g) Program",
           "Anti-Smuggling",
           "Boat Patrol",
           "CAP Federal Incarceration",
           "CAP Local Incarceration",
           "CAP State Incarceration",
           "Crewman/Stowaway",
           "Criminal Alien Program",
           "ERO Reprocessed Arrest",
           "Inspections",
           "Law Enforcement Agency Response Unit",
           "Located",
           "Non-Custodial Arrest",
           "Organized Crime Drug Enforcement Task Force",
           "Other Agency (turned over to INS)",
           "Other Task Force",
           "Other efforts",
           "Patrol Border",
           "Patrol Interior",
           "Probation and Parole",
           "Traffic Check",
           "Transportation Check Aircraft",
           "Transportation Check Bus",
           "Transportation Check Passenger Train",
           "Worksite Enforcement"
          ],
          "line": {
           "color": "black",
           "width": 0.5
          },
          "pad": 15,
          "thickness": 20
         },
         "type": "sankey"
        }
       ],
       "layout": {
        "annotations": [
         {
          "font": {
           "size": 16
          },
          "showarrow": false,
          "text": "Biden Term",
          "x": 0.225,
          "xanchor": "center",
          "xref": "paper",
          "y": 1,
          "yanchor": "bottom",
          "yref": "paper"
         },
         {
          "font": {
           "size": 16
          },
          "showarrow": false,
          "text": "Trump 2nd Term",
          "x": 0.775,
          "xanchor": "center",
          "xref": "paper",
          "y": 1,
          "yanchor": "bottom",
          "yref": "paper"
         }
        ],
        "font": {
         "size": 12
        },
        "height": 600,
        "template": {
         "data": {
          "bar": [
           {
            "error_x": {
             "color": "#2a3f5f"
            },
            "error_y": {
             "color": "#2a3f5f"
            },
            "marker": {
             "line": {
              "color": "#E5ECF6",
              "width": 0.5
             },
             "pattern": {
              "fillmode": "overlay",
              "size": 10,
              "solidity": 0.2
             }
            },
            "type": "bar"
           }
          ],
          "barpolar": [
           {
            "marker": {
             "line": {
              "color": "#E5ECF6",
              "width": 0.5
             },
             "pattern": {
              "fillmode": "overlay",
              "size": 10,
              "solidity": 0.2
             }
            },
            "type": "barpolar"
           }
          ],
          "carpet": [
           {
            "aaxis": {
             "endlinecolor": "#2a3f5f",
             "gridcolor": "white",
             "linecolor": "white",
             "minorgridcolor": "white",
             "startlinecolor": "#2a3f5f"
            },
            "baxis": {
             "endlinecolor": "#2a3f5f",
             "gridcolor": "white",
             "linecolor": "white",
             "minorgridcolor": "white",
             "startlinecolor": "#2a3f5f"
            },
            "type": "carpet"
           }
          ],
          "choropleth": [
           {
            "colorbar": {
             "outlinewidth": 0,
             "ticks": ""
            },
            "type": "choropleth"
           }
          ],
          "contour": [
           {
            "colorbar": {
             "outlinewidth": 0,
             "ticks": ""
            },
            "colorscale": [
             [
              0,
              "#0d0887"
             ],
             [
              0.1111111111111111,
              "#46039f"
             ],
             [
              0.2222222222222222,
              "#7201a8"
             ],
             [
              0.3333333333333333,
              "#9c179e"
             ],
             [
              0.4444444444444444,
              "#bd3786"
             ],
             [
              0.5555555555555556,
              "#d8576b"
             ],
             [
              0.6666666666666666,
              "#ed7953"
             ],
             [
              0.7777777777777778,
              "#fb9f3a"
             ],
             [
              0.8888888888888888,
              "#fdca26"
             ],
             [
              1,
              "#f0f921"
             ]
            ],
            "type": "contour"
           }
          ],
          "contourcarpet": [
           {
            "colorbar": {
             "outlinewidth": 0,
             "ticks": ""
            },
            "type": "contourcarpet"
           }
          ],
          "heatmap": [
           {
            "colorbar": {
             "outlinewidth": 0,
             "ticks": ""
            },
            "colorscale": [
             [
              0,
              "#0d0887"
             ],
             [
              0.1111111111111111,
              "#46039f"
             ],
             [
              0.2222222222222222,
              "#7201a8"
             ],
             [
              0.3333333333333333,
              "#9c179e"
             ],
             [
              0.4444444444444444,
              "#bd3786"
             ],
             [
              0.5555555555555556,
              "#d8576b"
             ],
             [
              0.6666666666666666,
              "#ed7953"
             ],
             [
              0.7777777777777778,
              "#fb9f3a"
             ],
             [
              0.8888888888888888,
              "#fdca26"
             ],
             [
              1,
              "#f0f921"
             ]
            ],
            "type": "heatmap"
           }
          ],
          "histogram": [
           {
            "marker": {
             "pattern": {
              "fillmode": "overlay",
              "size": 10,
              "solidity": 0.2
             }
            },
            "type": "histogram"
           }
          ],
          "histogram2d": [
           {
            "colorbar": {
             "outlinewidth": 0,
             "ticks": ""
            },
            "colorscale": [
             [
              0,
              "#0d0887"
             ],
             [
              0.1111111111111111,
              "#46039f"
             ],
             [
              0.2222222222222222,
              "#7201a8"
             ],
             [
              0.3333333333333333,
              "#9c179e"
             ],
             [
              0.4444444444444444,
              "#bd3786"
             ],
             [
              0.5555555555555556,
              "#d8576b"
             ],
             [
              0.6666666666666666,
              "#ed7953"
             ],
             [
              0.7777777777777778,
              "#fb9f3a"
             ],
             [
              0.8888888888888888,
              "#fdca26"
             ],
             [
              1,
              "#f0f921"
             ]
            ],
            "type": "histogram2d"
           }
          ],
          "histogram2dcontour": [
           {
            "colorbar": {
             "outlinewidth": 0,
             "ticks": ""
            },
            "colorscale": [
             [
              0,
              "#0d0887"
             ],
             [
              0.1111111111111111,
              "#46039f"
             ],
             [
              0.2222222222222222,
              "#7201a8"
             ],
             [
              0.3333333333333333,
              "#9c179e"
             ],
             [
              0.4444444444444444,
              "#bd3786"
             ],
             [
              0.5555555555555556,
              "#d8576b"
             ],
             [
              0.6666666666666666,
              "#ed7953"
             ],
             [
              0.7777777777777778,
              "#fb9f3a"
             ],
             [
              0.8888888888888888,
              "#fdca26"
             ],
             [
              1,
              "#f0f921"
             ]
            ],
            "type": "histogram2dcontour"
           }
          ],
          "mesh3d": [
           {
            "colorbar": {
             "outlinewidth": 0,
             "ticks": ""
            },
            "type": "mesh3d"
           }
          ],
          "parcoords": [
           {
            "line": {
             "colorbar": {
              "outlinewidth": 0,
              "ticks": ""
             }
            },
            "type": "parcoords"
           }
          ],
          "pie": [
           {
            "automargin": true,
            "type": "pie"
           }
          ],
          "scatter": [
           {
            "fillpattern": {
             "fillmode": "overlay",
             "size": 10,
             "solidity": 0.2
            },
            "type": "scatter"
           }
          ],
          "scatter3d": [
           {
            "line": {
             "colorbar": {
              "outlinewidth": 0,
              "ticks": ""
             }
            },
            "marker": {
             "colorbar": {
              "outlinewidth": 0,
              "ticks": ""
             }
            },
            "type": "scatter3d"
           }
          ],
          "scattercarpet": [
           {
            "marker": {
             "colorbar": {
              "outlinewidth": 0,
              "ticks": ""
             }
            },
            "type": "scattercarpet"
           }
          ],
          "scattergeo": [
           {
            "marker": {
             "colorbar": {
              "outlinewidth": 0,
              "ticks": ""
             }
            },
            "type": "scattergeo"
           }
          ],
          "scattergl": [
           {
            "marker": {
             "colorbar": {
              "outlinewidth": 0,
              "ticks": ""
             }
            },
            "type": "scattergl"
           }
          ],
          "scattermap": [
           {
            "marker": {
             "colorbar": {
              "outlinewidth": 0,
              "ticks": ""
             }
            },
            "type": "scattermap"
           }
          ],
          "scattermapbox": [
           {
            "marker": {
             "colorbar": {
              "outlinewidth": 0,
              "ticks": ""
             }
            },
            "type": "scattermapbox"
           }
          ],
          "scatterpolar": [
           {
            "marker": {
             "colorbar": {
              "outlinewidth": 0,
              "ticks": ""
             }
            },
            "type": "scatterpolar"
           }
          ],
          "scatterpolargl": [
           {
            "marker": {
             "colorbar": {
              "outlinewidth": 0,
              "ticks": ""
             }
            },
            "type": "scatterpolargl"
           }
          ],
          "scatterternary": [
           {
            "marker": {
             "colorbar": {
              "outlinewidth": 0,
              "ticks": ""
             }
            },
            "type": "scatterternary"
           }
          ],
          "surface": [
           {
            "colorbar": {
             "outlinewidth": 0,
             "ticks": ""
            },
            "colorscale": [
             [
              0,
              "#0d0887"
             ],
             [
              0.1111111111111111,
              "#46039f"
             ],
             [
              0.2222222222222222,
              "#7201a8"
             ],
             [
              0.3333333333333333,
              "#9c179e"
             ],
             [
              0.4444444444444444,
              "#bd3786"
             ],
             [
              0.5555555555555556,
              "#d8576b"
             ],
             [
              0.6666666666666666,
              "#ed7953"
             ],
             [
              0.7777777777777778,
              "#fb9f3a"
             ],
             [
              0.8888888888888888,
              "#fdca26"
             ],
             [
              1,
              "#f0f921"
             ]
            ],
            "type": "surface"
           }
          ],
          "table": [
           {
            "cells": {
             "fill": {
              "color": "#EBF0F8"
             },
             "line": {
              "color": "white"
             }
            },
            "header": {
             "fill": {
              "color": "#C8D4E3"
             },
             "line": {
              "color": "white"
             }
            },
            "type": "table"
           }
          ]
         },
         "layout": {
          "annotationdefaults": {
           "arrowcolor": "#2a3f5f",
           "arrowhead": 0,
           "arrowwidth": 1
          },
          "autotypenumbers": "strict",
          "coloraxis": {
           "colorbar": {
            "outlinewidth": 0,
            "ticks": ""
           }
          },
          "colorscale": {
           "diverging": [
            [
             0,
             "#8e0152"
            ],
            [
             0.1,
             "#c51b7d"
            ],
            [
             0.2,
             "#de77ae"
            ],
            [
             0.3,
             "#f1b6da"
            ],
            [
             0.4,
             "#fde0ef"
            ],
            [
             0.5,
             "#f7f7f7"
            ],
            [
             0.6,
             "#e6f5d0"
            ],
            [
             0.7,
             "#b8e186"
            ],
            [
             0.8,
             "#7fbc41"
            ],
            [
             0.9,
             "#4d9221"
            ],
            [
             1,
             "#276419"
            ]
           ],
           "sequential": [
            [
             0,
             "#0d0887"
            ],
            [
             0.1111111111111111,
             "#46039f"
            ],
            [
             0.2222222222222222,
             "#7201a8"
            ],
            [
             0.3333333333333333,
             "#9c179e"
            ],
            [
             0.4444444444444444,
             "#bd3786"
            ],
            [
             0.5555555555555556,
             "#d8576b"
            ],
            [
             0.6666666666666666,
             "#ed7953"
            ],
            [
             0.7777777777777778,
             "#fb9f3a"
            ],
            [
             0.8888888888888888,
             "#fdca26"
            ],
            [
             1,
             "#f0f921"
            ]
           ],
           "sequentialminus": [
            [
             0,
             "#0d0887"
            ],
            [
             0.1111111111111111,
             "#46039f"
            ],
            [
             0.2222222222222222,
             "#7201a8"
            ],
            [
             0.3333333333333333,
             "#9c179e"
            ],
            [
             0.4444444444444444,
             "#bd3786"
            ],
            [
             0.5555555555555556,
             "#d8576b"
            ],
            [
             0.6666666666666666,
             "#ed7953"
            ],
            [
             0.7777777777777778,
             "#fb9f3a"
            ],
            [
             0.8888888888888888,
             "#fdca26"
            ],
            [
             1,
             "#f0f921"
            ]
           ]
          },
          "colorway": [
           "#636efa",
           "#EF553B",
           "#00cc96",
           "#ab63fa",
           "#FFA15A",
           "#19d3f3",
           "#FF6692",
           "#B6E880",
           "#FF97FF",
           "#FECB52"
          ],
          "font": {
           "color": "#2a3f5f"
          },
          "geo": {
           "bgcolor": "white",
           "lakecolor": "white",
           "landcolor": "#E5ECF6",
           "showlakes": true,
           "showland": true,
           "subunitcolor": "white"
          },
          "hoverlabel": {
           "align": "left"
          },
          "hovermode": "closest",
          "mapbox": {
           "style": "light"
          },
          "paper_bgcolor": "white",
          "plot_bgcolor": "#E5ECF6",
          "polar": {
           "angularaxis": {
            "gridcolor": "white",
            "linecolor": "white",
            "ticks": ""
           },
           "bgcolor": "#E5ECF6",
           "radialaxis": {
            "gridcolor": "white",
            "linecolor": "white",
            "ticks": ""
           }
          },
          "scene": {
           "xaxis": {
            "backgroundcolor": "#E5ECF6",
            "gridcolor": "white",
            "gridwidth": 2,
            "linecolor": "white",
            "showbackground": true,
            "ticks": "",
            "zerolinecolor": "white"
           },
           "yaxis": {
            "backgroundcolor": "#E5ECF6",
            "gridcolor": "white",
            "gridwidth": 2,
            "linecolor": "white",
            "showbackground": true,
            "ticks": "",
            "zerolinecolor": "white"
           },
           "zaxis": {
            "backgroundcolor": "#E5ECF6",
            "gridcolor": "white",
            "gridwidth": 2,
            "linecolor": "white",
            "showbackground": true,
            "ticks": "",
            "zerolinecolor": "white"
           }
          },
          "shapedefaults": {
           "line": {
            "color": "#2a3f5f"
           }
          },
          "ternary": {
           "aaxis": {
            "gridcolor": "white",
            "linecolor": "white",
            "ticks": ""
           },
           "baxis": {
            "gridcolor": "white",
            "linecolor": "white",
            "ticks": ""
           },
           "bgcolor": "#E5ECF6",
           "caxis": {
            "gridcolor": "white",
            "linecolor": "white",
            "ticks": ""
           }
          },
          "title": {
           "x": 0.05
          },
          "xaxis": {
           "automargin": true,
           "gridcolor": "white",
           "linecolor": "white",
           "ticks": "",
           "title": {
            "standoff": 15
           },
           "zerolinecolor": "white",
           "zerolinewidth": 2
          },
          "yaxis": {
           "automargin": true,
           "gridcolor": "white",
           "linecolor": "white",
           "ticks": "",
           "title": {
            "standoff": 15
           },
           "zerolinecolor": "white",
           "zerolinewidth": 2
          }
         }
        },
        "title": {
         "text": "Sankey Diagrams: Apprehension Method Distribution - Biden vs Trump 2nd Term"
        },
        "width": 1200
       }
      }
     },
     "metadata": {},
     "output_type": "display_data"
    }
   ],
   "source": [
    "fig.show()"
   ]
  },
  {
   "cell_type": "markdown",
   "id": "ef991265",
   "metadata": {},
   "source": [
    "From this figure, we can asess that specifically related to the 287 program, the arrests have been more than half in 6 months than all of the Biden's term, reflecting the ramping up of the use of this program to target population. This specifically, but not exclusively, includes the participation of Local Enforcement Agencies. We then add all other programs that could be related to local forces enactment. "
   ]
  },
  {
   "cell_type": "code",
   "execution_count": null,
   "id": "14bed86e",
   "metadata": {},
   "outputs": [],
   "source": [
    "# Define the list of LEA-linked methods\n",
    "lea_methods = [\n",
    "    \"287(g) Program\",\n",
    "    \"CAP Local Incarceration\",\n",
    "    \"CAP State Incarceration\",\n",
    "    \"Law Enforcement Agency Response Unit\",\n",
    "    \"Traffic Check\"\n",
    "]\n",
    "\n",
    "# Add a new column to each arrests table\n",
    "biden_term[\"LEA_Linked_Method\"] = biden_term[\"Apprehension Method\"].apply(\n",
    "    lambda x: \"LEA linked method\" if x in lea_methods else \"\"\n",
    ")\n",
    "trump_second_term[\"LEA_Linked_Method\"] = trump_second_term[\"Apprehension Method\"].apply(\n",
    "    lambda x: \"LEA linked method\" if x in lea_methods else \"\"\n",
    ")"
   ]
  },
  {
   "cell_type": "code",
   "execution_count": 25,
   "id": "e4244efb",
   "metadata": {},
   "outputs": [
    {
     "data": {
      "image/png": "[encoded data removed]",
      "text/plain": [
       "<IPython.core.display.Image object>"
      ]
     },
     "metadata": {},
     "output_type": "display_data"
    }
   ],
   "source": [
    "import plotly.graph_objects as go\n",
    "from IPython.display import Image, display\n",
    "\n",
    "# Prepare counts for each term\n",
    "biden_counts = biden_term[\"LEA_Linked_Method\"].value_counts().rename({\"LEA linked method\": \"LEA linked\", \"\": \"Not LEA linked\"})\n",
    "trump2_counts = trump_second_term[\"LEA_Linked_Method\"].value_counts().rename({\"LEA linked method\": \"LEA linked\", \"\": \"Not LEA linked\"})\n",
    "\n",
    "categories = [\"LEA linked\", \"Not LEA linked\"]\n",
    "biden_counts = biden_counts.reindex(categories, fill_value=0)\n",
    "trump2_counts = trump2_counts.reindex(categories, fill_value=0)\n",
    "\n",
    "# Sankey nodes: [Biden, Trump2, LEA linked, Not LEA linked]\n",
    "labels = [\"Biden Term\", \"Trump 2nd Term\", \"LEA linked\", \"Not LEA linked\"]\n",
    "\n",
    "# Sources and targets for Sankey\n",
    "source = [0, 0, 1, 1]  # Biden to LEA, Biden to Not LEA, Trump2 to LEA, Trump2 to Not LEA\n",
    "target = [2, 3, 2, 3]\n",
    "value = [\n",
    "    biden_counts[\"LEA linked\"],\n",
    "    biden_counts[\"Not LEA linked\"],\n",
    "    trump2_counts[\"LEA linked\"],\n",
    "    trump2_counts[\"Not LEA linked\"]\n",
    "]\n",
    "\n",
    "# Create Sankey figure\n",
    "fig = go.Figure(go.Sankey(\n",
    "    node=dict(\n",
    "        pad=15,\n",
    "        thickness=20,\n",
    "        line=dict(color=\"black\", width=0.5),\n",
    "        label=labels,\n",
    "        color=[\"#4F81BD\", \"#C0504D\", \"#9BBB59\", \"#8064A2\"]\n",
    "    ),\n",
    "    link=dict(\n",
    "        source=source,\n",
    "        target=target,\n",
    "        value=value,\n",
    "        label=[\n",
    "            f\"Biden → {categories[0]}: {biden_counts['LEA linked']}\",\n",
    "            f\"Biden → {categories[1]}: {biden_counts['Not LEA linked']}\",\n",
    "            f\"Trump2 → {categories[0]}: {trump2_counts['LEA linked']}\",\n",
    "            f\"Trump2 → {categories[1]}: {trump2_counts['Not LEA linked']}\"\n",
    "        ]\n",
    "    )\n",
    "))\n",
    "\n",
    "fig.update_layout(\n",
    "    title_text=\"Sankey Diagram: LEA Linked Methods Comparison (Biden vs Trump 2nd Term)\",\n",
    "    font_size=12,\n",
    "    height=400,\n",
    "    width=700\n",
    ")\n",
    "\n",
    "# Save as PNG\n",
    "fig.write_image(\"outputs/figures/sankey_lea_linked_biden_trump2.png\")\n",
    "\n",
    "# Embed PNG in notebook\n",
    "display(Image(filename=\"outputs/figures/sankey_lea_linked_biden_trump2.png\"))"
   ]
  },
  {
   "cell_type": "code",
   "execution_count": null,
   "id": "846a2245",
   "metadata": {},
   "outputs": [],
   "source": []
  }
 ],
 "metadata": {
  "kernelspec": {
   "display_name": "lighthouse-ice-py3.11",
   "language": "python",
   "name": "python3"
  },
  "language_info": {
   "codemirror_mode": {
    "name": "ipython",
    "version": 3
   },
   "file_extension": ".py",
   "mimetype": "text/x-python",
   "name": "python",
   "nbconvert_exporter": "python",
   "pygments_lexer": "ipython3",
   "version": "3.11.13"
  }
 },
 "nbformat": 4,
 "nbformat_minor": 5
}
