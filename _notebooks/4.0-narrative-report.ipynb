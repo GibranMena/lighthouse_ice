{
 "cells": [
  {
   "cell_type": "markdown",
   "id": "c4855f32",
   "metadata": {},
   "source": [
    "### Administrative arrests assesement and analysis / Gibran Mena-Aguilar\n",
    "\n",
    "## Task 1 Search for Mahmoud Khalil\n",
    "\n",
    "Is Mahmoud Khalil in the dataset? The highest probability is that he is not. As the evidence I gathered in the exploratory analysis of the database documentation points to. \n",
    "\n",
    "The most important piece of knowledge to understand this that this database does not represent the full universe of immigration-related arrests, only \"administrative arrests\" performed by Enforcement Removal Operations (ERO) within Immigration and Customs Enforcement (ICE), as reported by the professor and legal expert Austin Kocher (linked in the documentation of the data)\n",
    "\n",
    "The key question to report on is if Khalil's notice to appear order (NTA) performed on March the 8th was issued by ERO or by Homeland Security Investigations (HSI), which is the case since he was targeted not on violations of immigration policies but on the supposed grounds of posing \"potentially serious adverse foreign policy consequences for the United States\" according to US Secretary of State Marco Rubio.\n",
    "\n",
    "Administrative arrests should be linked to administrative warrants but there are exceptions, for isntance, arrests can an are being performed by ERO without warrants if they argue they have reason to believe the person in question is either entering the country illegaly or is already in the country and likely to escape before a warrant can be obtained. Therefore, some arrests with no warrant issued could be included in the database but only the ones enacted by ERO.\n",
    "\n",
    "Still, drilling down in the database is a useful excercise to see what records within say.\n",
    "\n",
    "Documention of the dataset states that \"located\" and \"non-custodial arrest\" are most likely to be detentions not at a jail or prison.AP and NYTimes record the date of arrest on Saturday March the 8th in his Columbia university owned apartement, which The Guardian states is blocks away from the main campus.\n",
    "\n",
    "But we need to take into consideration that data is not complete, 21% is missing in the column \"State Apprehension\" but only 2% is missing from the column \"Area of Reponsibility\" (AOR), which can be much more closer to ground truth. Age has a 100% of records, therefore I filtered for all individuals born in 1995 detained on March the 8th, a day before and a day after, to explore the results. \n",
    "\n",
    "There are 58 records with this characteristics, none of them with a missing value under AOR. Then there are 2 records in the New York City AOR, one wiith a criminal criminal conviction departed to El Salvador and arrested on March the 7th, which excludes him from the scope and the other with 2 criminal pending charges and a Salvadorean nationality, where the criminal charges are the most telling feature to exclude him to be a match. \n",
    "\n",
    "My recommendation would be to file a FOIA request or get a hold of HSI arrests database. \n",
    "\n",
    "## Task 2\n",
    "\n",
    "The team wants to understand whether the \"Apprehension Site Landmark\" column could provide clues about potential partnerships between local and state law enforcement and ICE.\n",
    "\n",
    "Use this column to help identify which jail or prison individuals have been taken to, where available. Add one column to the dataset indicating the name of the facility, and another showing the county where that facility is located.\n",
    "\n",
    "---\n",
    "\n",
    "This is not the most accurate way to obtain information on what jails, facilities and counties individuales have been take to, since this information is available in the rest of the tables of the dataset, detentions and detainers. However, within the dataset, it is the most granular variable relevant to the county of apprehension and jails or prisons, as AOR can cover more than one state and hence not very tied to counties at all. \n",
    "\n",
    "String analysis based on string lenght within the column shows most common arrangements that are not part of the name of the county before the word \"county\" are \"Fugitive Operations\" or \"Fugitive operations on street\" or \"At large arrest\", \"All areas inside\", \"CAP\", standing for Custody Alternatives Program and a combination of one to three letters a white space before and after a dash, stating the abbreviation of a state, all of which I excluded to then extract the counties from the column. \n",
    "\n",
    "I then added a different approach: download the public database of the 3000+ counties where I searched for any matches of them in the column \"Apprehension Site Landmark\".\n",
    "\n",
    "\n",
    "\n",
    "\n",
    "\n",
    "\n",
    "\n",
    "\n",
    "\n",
    "\n",
    "\n",
    "\n",
    "\n",
    "\n",
    "\n"
   ]
  }
 ],
 "metadata": {
  "language_info": {
   "name": "python"
  }
 },
 "nbformat": 4,
 "nbformat_minor": 5
}
