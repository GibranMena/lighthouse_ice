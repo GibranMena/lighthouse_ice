{
 "cells": [
  {
   "cell_type": "markdown",
   "id": "0d2b4ce7",
   "metadata": {},
   "source": [
    "##Trump ramps up coopting local enforcement agencies**\n",
    "\n",
    "Gibran Mena-Aguilar\n",
    "\n",
    "Trump is using public officials endowed for protection of the public peace and other local civil duties for achieving the deportation numbers he promised to his voting base, and which are the duty of Immigrations and Customs Enforcement department. In only a quarter of the term, the Trump administration has made 51558 arrests using local enforcement linked apprehension methods, versus a total of 78184 arrests made in this fashion by part of the Biden administration between 2023 and 2025. In other words, he completed 66 per cent of the use of local enforcement that his predecessor made in two years, in only a quarter of the time.\n",
    "\n",
    "The analysis of more than 205 thousand arrests from the previous and current administration shows that more arrests connected not only to the to the controversial \"287(g) Program\", but also to other local police coopting programas such as \"CAP Local Incarceration\", \"CAP State Incarceration\", \"Law Enforcement Agency Response Unit\" and \"Traffic Check\".\n",
    "\n",
    "The analyzed database does not represent the full universe of immigration-related arrests, only \"administrative arrests\" performed by Enforcement Removal Operations (ERO) within Immigration and Customs Enforcement (ICE), the kind that targets immigrants within the US territory, and drills down on the arrests that are using local police officers. \n",
    "\n",
    "Most targeted groups overall in any of the seconf half of Biden's term and first quarter of second Trump's are still males (86.7 % of total arrests) in working ages, as 84.57% of total arrests among all population of the database are between the working age as defined by OCDE between 15-64 years old, the distribution peaks at 26-30 years for females and at 31-35 fo males as illustrated in the histogram.\n",
    "\n",
    "Nevertheless, Trump's politics is changing the national demographics. Overall, nationals from Mexico and countries from Central America (Guatemala, Honduras and El Salvador) account for the majority of the citizenship nationalities. \n",
    "\n",
    "Nonetheless, in only half of the first year of his second term, Trump administration has arrested more than half of all Mexican women arrested during Biden's second half term, and almost as much of male Salvadoreans. Salvadorean arrests have replaced Nicaraguans, this is the only nationality change in the top 5 countries, although other notorious changes have happened, probably related to the narratives of criminalities we have seen reported. For instance, that Venezuelans already surpassed the number of total Venezuelan arrests of second half of the Biden administration and that Mexican arrests represent around 70% of the total mexican arrests that the second half of Biden Administration performed.\n",
    "\n",
    "For a thorough analysis, historic data from the first half of the Biden's presidency should be retrieved and analyzed and ratios of total of immigrating population in each county or state should be determined to ensure how the number of arrests has changed **as a proportion** to the number of immigrants in determined areas. A full procedure to match all of the US counties from public data to appearances in the \"Landmark Apprehension Site\" can enhace the county column, which is already partially complete in 44%. \n",
    "\n",
    "\n",
    "One of the hyphotesis of the team is that procedures are being rushed more in the latest term to preempt legal actions by family members of organizations who defend migran rights. Coverage shows that many other legal procedures, such as the need of showing a warrant in all (though not in all) cases, have been overlooked by ICE ERO's personnel in order to fulfill arrests quotas promoted in public discourse by the current administration. One more question to ask the database is **How has the time-span between the arrest date, the final order date and the departed date shortened or changed between this term and the previous term?**\n",
    "\n",
    "Another hypothesis is that the program 287 is especially being used to incorporate local officers into the scarce numbers of ICE agents, also to fulfill the number of deportations in the public discourse of the current administration. Another question to make is **What are the proportions of arrests performed with the 287(g) program increased comparatively to the same period in the Biden administration period in the dataset and in comparison to the overall term**\n",
    "\n",
    "To understand why the ratio of arrests to deportations changes overall, for instance, in California, on ground reporting can identify leading community organizers. In a recent interview I had with Canek Hernández, the organization of neighbourhood and legal strategies was mentioned as the cause of perceived failure of arrests following the Home Depot raids in LA County.\n",
    "\n",
    "Ground interviews with Apprehension Method specialists will make the LEA-linked analysis robust and confirmed. Another relevant question given the current climate of \"express\" deportations in the USA can be **What number of unique identifiers of arrests that lead to a departure date, implying an effective deportation, are also present in the detentions database and allow to follow the detainees to a process where local enforcement was definitely involved?**\n",
    "\n",
    "There are other relevant questions for further investigations. In only half of the first year of his second term, the Trump administration has arrested more than half of all Mexican women arrested during Biden's last two years, why is this happening and how is it breaking the sustain of families who depend more on the organization and community care that these women traditionally perform in their migrant communities?\n",
    "\n",
    "This data is partial, it can be useful to make a FOIA request about Homeland Security Investigations to find out more information on prominent activists arrested on policital motivations, and a comprehensive table should be consolidated bridging between the detentions, detainers and removals datasets, taking into consideration that removals are advised not to taken as complete data either. \n",
    "\n",
    "## Impact analysis\n",
    "\n",
    "Local Enforcement agents should be in service of community safeguarding and civil harmony keeping, however that traces to the local laws of any country. Finding out that the immigration policies pushed forward by the Trum Administration are using up resources to maintain communities out of danger and in harmony to serve political or migration control purposes unearths the risks. Furthermore, an analysis of the case when the detainers requests are not honoured could prove that counties and States themselves realize that their resources are hardly to share with politically motivated efforts which are not in accordance to local objectives. \n",
    "\n",
    "Understanding that local authorities permit and reject to do at a municipality or county level offers evidence to local law makers, but also to local law strategies for defense of civil and human rights, that can build up legal tools such as the ones that organizers at local LA counties are advancing to demand to their local municipalities to reject illegal actions such as ICE enforcement officers covering their faces, which one source recently shared as a community victory in an article I [recently published](https://lateinamerika-nachrichten.de/artikel/expulsaron-a-300-policias/. This community strategies to press local officers to demand the rule of law in the current persecution of non-criminal migrants are key for them to stay strong as collectives, but also to make cases for larger legal efforts. \n",
    "\n",
    "All code, tables and figures that back my analysis can be found at https://github.com/GibranMena/lighthouse_ice/\n",
    "Interactive figures can be run locally by reproducing the pertinent code, the notebooks have a static version.\n",
    "\n",
    "**Note on the use of AI: I used Github copilot to correct code used for the analysis\n",
    "\n"
   ]
  }
 ],
 "metadata": {
  "language_info": {
   "name": "python"
  }
 },
 "nbformat": 4,
 "nbformat_minor": 5
}
