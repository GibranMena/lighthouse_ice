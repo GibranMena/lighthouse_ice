{
 "cells": [
  {
   "cell_type": "code",
   "execution_count": 1,
   "id": "738996ce",
   "metadata": {},
   "outputs": [],
   "source": [
    "#Calling the necessary libraries\n",
    "\n",
    "import requests\n",
    "import zipfile\n",
    "from pathlib import Path\n",
    "import pandas as pd\n",
    "import os\n",
    "import urllib"
   ]
  },
  {
   "cell_type": "code",
   "execution_count": 2,
   "id": "920c24ca",
   "metadata": {},
   "outputs": [
    {
     "name": "stdout",
     "output_type": "stream",
     "text": [
      "Working directory set to: /Users/allegratuvida/Desktop/escritorio/data_critica_2025/Proyectos en desarrollo/Lighthouse_ICE/lighthouse_ice\n"
     ]
    }
   ],
   "source": [
    "#Fixing absolute and relative paths\n",
    "\n",
    "\n",
    "if Path.cwd().name == '_notebooks':\n",
    "    os.chdir('..')  # Go to project root\n",
    "elif not (Path.cwd() / '__notebooks').exists():\n",
    "    # Find and change to project root\n",
    "    for parent in Path.cwd().parents:\n",
    "        if (parent / 'notebooks').exists():\n",
    "            os.chdir(parent)\n",
    "            break\n",
    "\n",
    "print(f\"Working directory set to: {Path.cwd()}\")"
   ]
  },
  {
   "cell_type": "code",
   "execution_count": 3,
   "id": "4dad0661",
   "metadata": {},
   "outputs": [
    {
     "name": "stdout",
     "output_type": "stream",
     "text": [
      "Downloading the zip file...\n",
      "Download complete.\n",
      "Extracting the zip file...\n",
      "Extraction complete.\n",
      "Removing the zip file...\n",
      "Zip file removed.\n"
     ]
    }
   ],
   "source": [
    "\n",
    "url = \"https://ucla.box.com/shared/static/f9ish3m738cnke6xo1f4h7xnsc1b17x0.zip\"\n",
    "download_path = \"data/raw/ice_datarelease.zip\"\n",
    "extract_path = 'data/raw'\n",
    "\n",
    "# Ensure the download directory exists\n",
    "os.makedirs(os.path.dirname(download_path), exist_ok=True)\n",
    "os.makedirs(extract_path, exist_ok=True)\n",
    "\n",
    "# Download the zip file\n",
    "\n",
    "\n",
    "print(\"Downloading the zip file...\")\n",
    "urllib.request.urlretrieve(url, download_path)\n",
    "print(\"Download complete.\")\n",
    "\n",
    "\n",
    "# Extract the zip file into the specified directory\n",
    "print(\"Extracting the zip file...\")\n",
    "with zipfile.ZipFile(download_path, 'r') as zip_ref:\n",
    "    zip_ref.extractall(extract_path)\n",
    "print(\"Extraction complete.\")\n",
    "\n",
    "# Remove the zip file after extraction\n",
    "print(\"Removing the zip file...\")\n",
    "os.remove(download_path)\n",
    "print(\"Zip file removed.\")"
   ]
  }
 ],
 "metadata": {
  "kernelspec": {
   "display_name": "lighthouse-ice-py3.11",
   "language": "python",
   "name": "python3"
  },
  "language_info": {
   "codemirror_mode": {
    "name": "ipython",
    "version": 3
   },
   "file_extension": ".py",
   "mimetype": "text/x-python",
   "name": "python",
   "nbconvert_exporter": "python",
   "pygments_lexer": "ipython3",
   "version": "3.11.13"
  }
 },
 "nbformat": 4,
 "nbformat_minor": 5
}
